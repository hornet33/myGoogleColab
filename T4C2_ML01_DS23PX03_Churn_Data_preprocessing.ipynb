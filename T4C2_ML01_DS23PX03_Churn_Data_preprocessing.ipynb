{
  "cells": [
    {
      "cell_type": "markdown",
      "metadata": {
        "id": "view-in-github",
        "colab_type": "text"
      },
      "source": [
        "<a href=\"https://colab.research.google.com/github/hornet33/myGoogleColab/blob/main/T4C2_ML01_DS23PX03_Churn_Data_preprocessing.ipynb\" target=\"_parent\"><img src=\"https://colab.research.google.com/assets/colab-badge.svg\" alt=\"Open In Colab\"/></a>"
      ]
    },
    {
      "cell_type": "markdown",
      "metadata": {
        "id": "uMQAYL6atRl6"
      },
      "source": [
        "##Data Preprocessing"
      ]
    },
    {
      "cell_type": "code",
      "execution_count": null,
      "metadata": {
        "id": "usRMclQTtRl-"
      },
      "outputs": [],
      "source": [
        "import pandas as pd\n",
        "import numpy as np"
      ]
    },
    {
      "cell_type": "code",
      "source": [
        "from google.colab import drive\n",
        "drive.mount('/content/drive/')"
      ],
      "metadata": {
        "id": "tctHmOnjuJlB",
        "colab": {
          "base_uri": "https://localhost:8080/"
        },
        "outputId": "f2130478-4862-4598-b753-621b1941cafd"
      },
      "execution_count": null,
      "outputs": [
        {
          "output_type": "stream",
          "name": "stdout",
          "text": [
            "Mounted at /content/drive/\n"
          ]
        }
      ]
    },
    {
      "cell_type": "code",
      "source": [
        "!ls \"/content/drive/My Drive/\""
      ],
      "metadata": {
        "id": "7_tQZevsQZuT"
      },
      "execution_count": null,
      "outputs": []
    },
    {
      "cell_type": "code",
      "source": [
        "!ls \"/content/drive/My Drive/Colab Notebooks/Datasets\"\n",
        "#%cd /content/drive/My Drive/Colab Notebooks/Datasets/\n",
        "filepath = \"/content/drive/My Drive/Colab Notebooks/Datasets/\""
      ],
      "metadata": {
        "id": "N9UF8NAouKy4"
      },
      "execution_count": null,
      "outputs": []
    },
    {
      "cell_type": "code",
      "source": [
        "#Load the CSV file from the filepath\n",
        "churn = pd.read_csv(filepath + 'PX03_Churn.csv', header=[0])"
      ],
      "metadata": {
        "id": "6DM_aULDuPMC"
      },
      "execution_count": null,
      "outputs": []
    },
    {
      "cell_type": "code",
      "source": [
        "from google.colab import files\n",
        "uploaded = files.upload()"
      ],
      "metadata": {
        "id": "c8TdLRoI9_uZ",
        "colab": {
          "base_uri": "https://localhost:8080/",
          "height": 74
        },
        "outputId": "de1fc26c-7ed3-414a-8779-c7e71f9001cb"
      },
      "execution_count": 1,
      "outputs": [
        {
          "output_type": "display_data",
          "data": {
            "text/plain": [
              "<IPython.core.display.HTML object>"
            ],
            "text/html": [
              "\n",
              "     <input type=\"file\" id=\"files-06ed5623-b7d2-4bf4-ae41-92cd11193ad3\" name=\"files[]\" multiple disabled\n",
              "        style=\"border:none\" />\n",
              "     <output id=\"result-06ed5623-b7d2-4bf4-ae41-92cd11193ad3\">\n",
              "      Upload widget is only available when the cell has been executed in the\n",
              "      current browser session. Please rerun this cell to enable.\n",
              "      </output>\n",
              "      <script>// Copyright 2017 Google LLC\n",
              "//\n",
              "// Licensed under the Apache License, Version 2.0 (the \"License\");\n",
              "// you may not use this file except in compliance with the License.\n",
              "// You may obtain a copy of the License at\n",
              "//\n",
              "//      http://www.apache.org/licenses/LICENSE-2.0\n",
              "//\n",
              "// Unless required by applicable law or agreed to in writing, software\n",
              "// distributed under the License is distributed on an \"AS IS\" BASIS,\n",
              "// WITHOUT WARRANTIES OR CONDITIONS OF ANY KIND, either express or implied.\n",
              "// See the License for the specific language governing permissions and\n",
              "// limitations under the License.\n",
              "\n",
              "/**\n",
              " * @fileoverview Helpers for google.colab Python module.\n",
              " */\n",
              "(function(scope) {\n",
              "function span(text, styleAttributes = {}) {\n",
              "  const element = document.createElement('span');\n",
              "  element.textContent = text;\n",
              "  for (const key of Object.keys(styleAttributes)) {\n",
              "    element.style[key] = styleAttributes[key];\n",
              "  }\n",
              "  return element;\n",
              "}\n",
              "\n",
              "// Max number of bytes which will be uploaded at a time.\n",
              "const MAX_PAYLOAD_SIZE = 100 * 1024;\n",
              "\n",
              "function _uploadFiles(inputId, outputId) {\n",
              "  const steps = uploadFilesStep(inputId, outputId);\n",
              "  const outputElement = document.getElementById(outputId);\n",
              "  // Cache steps on the outputElement to make it available for the next call\n",
              "  // to uploadFilesContinue from Python.\n",
              "  outputElement.steps = steps;\n",
              "\n",
              "  return _uploadFilesContinue(outputId);\n",
              "}\n",
              "\n",
              "// This is roughly an async generator (not supported in the browser yet),\n",
              "// where there are multiple asynchronous steps and the Python side is going\n",
              "// to poll for completion of each step.\n",
              "// This uses a Promise to block the python side on completion of each step,\n",
              "// then passes the result of the previous step as the input to the next step.\n",
              "function _uploadFilesContinue(outputId) {\n",
              "  const outputElement = document.getElementById(outputId);\n",
              "  const steps = outputElement.steps;\n",
              "\n",
              "  const next = steps.next(outputElement.lastPromiseValue);\n",
              "  return Promise.resolve(next.value.promise).then((value) => {\n",
              "    // Cache the last promise value to make it available to the next\n",
              "    // step of the generator.\n",
              "    outputElement.lastPromiseValue = value;\n",
              "    return next.value.response;\n",
              "  });\n",
              "}\n",
              "\n",
              "/**\n",
              " * Generator function which is called between each async step of the upload\n",
              " * process.\n",
              " * @param {string} inputId Element ID of the input file picker element.\n",
              " * @param {string} outputId Element ID of the output display.\n",
              " * @return {!Iterable<!Object>} Iterable of next steps.\n",
              " */\n",
              "function* uploadFilesStep(inputId, outputId) {\n",
              "  const inputElement = document.getElementById(inputId);\n",
              "  inputElement.disabled = false;\n",
              "\n",
              "  const outputElement = document.getElementById(outputId);\n",
              "  outputElement.innerHTML = '';\n",
              "\n",
              "  const pickedPromise = new Promise((resolve) => {\n",
              "    inputElement.addEventListener('change', (e) => {\n",
              "      resolve(e.target.files);\n",
              "    });\n",
              "  });\n",
              "\n",
              "  const cancel = document.createElement('button');\n",
              "  inputElement.parentElement.appendChild(cancel);\n",
              "  cancel.textContent = 'Cancel upload';\n",
              "  const cancelPromise = new Promise((resolve) => {\n",
              "    cancel.onclick = () => {\n",
              "      resolve(null);\n",
              "    };\n",
              "  });\n",
              "\n",
              "  // Wait for the user to pick the files.\n",
              "  const files = yield {\n",
              "    promise: Promise.race([pickedPromise, cancelPromise]),\n",
              "    response: {\n",
              "      action: 'starting',\n",
              "    }\n",
              "  };\n",
              "\n",
              "  cancel.remove();\n",
              "\n",
              "  // Disable the input element since further picks are not allowed.\n",
              "  inputElement.disabled = true;\n",
              "\n",
              "  if (!files) {\n",
              "    return {\n",
              "      response: {\n",
              "        action: 'complete',\n",
              "      }\n",
              "    };\n",
              "  }\n",
              "\n",
              "  for (const file of files) {\n",
              "    const li = document.createElement('li');\n",
              "    li.append(span(file.name, {fontWeight: 'bold'}));\n",
              "    li.append(span(\n",
              "        `(${file.type || 'n/a'}) - ${file.size} bytes, ` +\n",
              "        `last modified: ${\n",
              "            file.lastModifiedDate ? file.lastModifiedDate.toLocaleDateString() :\n",
              "                                    'n/a'} - `));\n",
              "    const percent = span('0% done');\n",
              "    li.appendChild(percent);\n",
              "\n",
              "    outputElement.appendChild(li);\n",
              "\n",
              "    const fileDataPromise = new Promise((resolve) => {\n",
              "      const reader = new FileReader();\n",
              "      reader.onload = (e) => {\n",
              "        resolve(e.target.result);\n",
              "      };\n",
              "      reader.readAsArrayBuffer(file);\n",
              "    });\n",
              "    // Wait for the data to be ready.\n",
              "    let fileData = yield {\n",
              "      promise: fileDataPromise,\n",
              "      response: {\n",
              "        action: 'continue',\n",
              "      }\n",
              "    };\n",
              "\n",
              "    // Use a chunked sending to avoid message size limits. See b/62115660.\n",
              "    let position = 0;\n",
              "    do {\n",
              "      const length = Math.min(fileData.byteLength - position, MAX_PAYLOAD_SIZE);\n",
              "      const chunk = new Uint8Array(fileData, position, length);\n",
              "      position += length;\n",
              "\n",
              "      const base64 = btoa(String.fromCharCode.apply(null, chunk));\n",
              "      yield {\n",
              "        response: {\n",
              "          action: 'append',\n",
              "          file: file.name,\n",
              "          data: base64,\n",
              "        },\n",
              "      };\n",
              "\n",
              "      let percentDone = fileData.byteLength === 0 ?\n",
              "          100 :\n",
              "          Math.round((position / fileData.byteLength) * 100);\n",
              "      percent.textContent = `${percentDone}% done`;\n",
              "\n",
              "    } while (position < fileData.byteLength);\n",
              "  }\n",
              "\n",
              "  // All done.\n",
              "  yield {\n",
              "    response: {\n",
              "      action: 'complete',\n",
              "    }\n",
              "  };\n",
              "}\n",
              "\n",
              "scope.google = scope.google || {};\n",
              "scope.google.colab = scope.google.colab || {};\n",
              "scope.google.colab._files = {\n",
              "  _uploadFiles,\n",
              "  _uploadFilesContinue,\n",
              "};\n",
              "})(self);\n",
              "</script> "
            ]
          },
          "metadata": {}
        },
        {
          "output_type": "stream",
          "name": "stdout",
          "text": [
            "Saving PX03_Churn.csv to PX03_Churn.csv\n"
          ]
        }
      ]
    },
    {
      "cell_type": "code",
      "source": [
        "import io\n",
        "churn = pd.read_csv(io.BytesIO(uploaded['PX03_Churn.csv']), sep=',')"
      ],
      "metadata": {
        "id": "uAZjK0fr-EzA"
      },
      "execution_count": null,
      "outputs": []
    },
    {
      "cell_type": "code",
      "execution_count": null,
      "metadata": {
        "colab": {
          "base_uri": "https://localhost:8080/"
        },
        "id": "W6kK8oQStRmB",
        "outputId": "df2a0589-e33f-4477-a298-ed30001eb08b"
      },
      "outputs": [
        {
          "output_type": "execute_result",
          "data": {
            "text/plain": [
              "(5000, 14)"
            ]
          },
          "metadata": {},
          "execution_count": 6
        }
      ],
      "source": [
        "#To understand the dataset\n",
        "#To look at the dimensions, number of rows and columns\n",
        "churn.shape\n"
      ]
    },
    {
      "cell_type": "code",
      "source": [
        "#To look at the names of the columns\n",
        "churn.columns"
      ],
      "metadata": {
        "colab": {
          "base_uri": "https://localhost:8080/"
        },
        "id": "shW9S1FVvOwV",
        "outputId": "a80dacf1-9fb3-4cf4-ffb9-011cb805c1a7"
      },
      "execution_count": null,
      "outputs": [
        {
          "output_type": "execute_result",
          "data": {
            "text/plain": [
              "Index(['phoneno', 'age', 'gender', 'zipcode', 'calls', 'sms', 'mms', 'charges',\n",
              "       'coverage', 'complaint', 'sim', 'phone', 'prepost', 'churn'],\n",
              "      dtype='object')"
            ]
          },
          "metadata": {},
          "execution_count": 7
        }
      ]
    },
    {
      "cell_type": "code",
      "execution_count": null,
      "metadata": {
        "colab": {
          "base_uri": "https://localhost:8080/",
          "height": 356
        },
        "id": "z5qIBFMitRmC",
        "outputId": "e85404ac-0533-4538-ac02-d0de4467fcf1"
      },
      "outputs": [
        {
          "output_type": "execute_result",
          "data": {
            "text/plain": [
              "   phoneno  age  gender  zipcode  calls  sms  mms  charges  coverage  \\\n",
              "0     5974  1.0    Male    91107  160.0   25    1      490         0   \n",
              "1     4535  1.0    Male    90089  150.0   45   19      340         0   \n",
              "2     4016  1.0    Male    94720  100.0   39   15      110         0   \n",
              "3     8523  2.0    Male    94112  270.0   35    9     1000         0   \n",
              "4     5052  2.0  Female    91330  100.0   35    8      450         0   \n",
              "\n",
              "   complaint         sim   phone  prepost  churn  \n",
              "0          4    Dual Sim  Andoid  Prepaid      0  \n",
              "1          3    Dual Sim  Andoid  Prepaid      0  \n",
              "2          1  Single Sim  Andoid  Prepaid      0  \n",
              "3          1  Single Sim  Andoid  Prepaid      0  \n",
              "4          4  Single Sim  Andoid  Prepaid      0  "
            ],
            "text/html": [
              "\n",
              "  <div id=\"df-c9521d13-382a-435d-b8c5-86cd953dd4af\">\n",
              "    <div class=\"colab-df-container\">\n",
              "      <div>\n",
              "<style scoped>\n",
              "    .dataframe tbody tr th:only-of-type {\n",
              "        vertical-align: middle;\n",
              "    }\n",
              "\n",
              "    .dataframe tbody tr th {\n",
              "        vertical-align: top;\n",
              "    }\n",
              "\n",
              "    .dataframe thead th {\n",
              "        text-align: right;\n",
              "    }\n",
              "</style>\n",
              "<table border=\"1\" class=\"dataframe\">\n",
              "  <thead>\n",
              "    <tr style=\"text-align: right;\">\n",
              "      <th></th>\n",
              "      <th>phoneno</th>\n",
              "      <th>age</th>\n",
              "      <th>gender</th>\n",
              "      <th>zipcode</th>\n",
              "      <th>calls</th>\n",
              "      <th>sms</th>\n",
              "      <th>mms</th>\n",
              "      <th>charges</th>\n",
              "      <th>coverage</th>\n",
              "      <th>complaint</th>\n",
              "      <th>sim</th>\n",
              "      <th>phone</th>\n",
              "      <th>prepost</th>\n",
              "      <th>churn</th>\n",
              "    </tr>\n",
              "  </thead>\n",
              "  <tbody>\n",
              "    <tr>\n",
              "      <th>0</th>\n",
              "      <td>5974</td>\n",
              "      <td>1.0</td>\n",
              "      <td>Male</td>\n",
              "      <td>91107</td>\n",
              "      <td>160.0</td>\n",
              "      <td>25</td>\n",
              "      <td>1</td>\n",
              "      <td>490</td>\n",
              "      <td>0</td>\n",
              "      <td>4</td>\n",
              "      <td>Dual Sim</td>\n",
              "      <td>Andoid</td>\n",
              "      <td>Prepaid</td>\n",
              "      <td>0</td>\n",
              "    </tr>\n",
              "    <tr>\n",
              "      <th>1</th>\n",
              "      <td>4535</td>\n",
              "      <td>1.0</td>\n",
              "      <td>Male</td>\n",
              "      <td>90089</td>\n",
              "      <td>150.0</td>\n",
              "      <td>45</td>\n",
              "      <td>19</td>\n",
              "      <td>340</td>\n",
              "      <td>0</td>\n",
              "      <td>3</td>\n",
              "      <td>Dual Sim</td>\n",
              "      <td>Andoid</td>\n",
              "      <td>Prepaid</td>\n",
              "      <td>0</td>\n",
              "    </tr>\n",
              "    <tr>\n",
              "      <th>2</th>\n",
              "      <td>4016</td>\n",
              "      <td>1.0</td>\n",
              "      <td>Male</td>\n",
              "      <td>94720</td>\n",
              "      <td>100.0</td>\n",
              "      <td>39</td>\n",
              "      <td>15</td>\n",
              "      <td>110</td>\n",
              "      <td>0</td>\n",
              "      <td>1</td>\n",
              "      <td>Single Sim</td>\n",
              "      <td>Andoid</td>\n",
              "      <td>Prepaid</td>\n",
              "      <td>0</td>\n",
              "    </tr>\n",
              "    <tr>\n",
              "      <th>3</th>\n",
              "      <td>8523</td>\n",
              "      <td>2.0</td>\n",
              "      <td>Male</td>\n",
              "      <td>94112</td>\n",
              "      <td>270.0</td>\n",
              "      <td>35</td>\n",
              "      <td>9</td>\n",
              "      <td>1000</td>\n",
              "      <td>0</td>\n",
              "      <td>1</td>\n",
              "      <td>Single Sim</td>\n",
              "      <td>Andoid</td>\n",
              "      <td>Prepaid</td>\n",
              "      <td>0</td>\n",
              "    </tr>\n",
              "    <tr>\n",
              "      <th>4</th>\n",
              "      <td>5052</td>\n",
              "      <td>2.0</td>\n",
              "      <td>Female</td>\n",
              "      <td>91330</td>\n",
              "      <td>100.0</td>\n",
              "      <td>35</td>\n",
              "      <td>8</td>\n",
              "      <td>450</td>\n",
              "      <td>0</td>\n",
              "      <td>4</td>\n",
              "      <td>Single Sim</td>\n",
              "      <td>Andoid</td>\n",
              "      <td>Prepaid</td>\n",
              "      <td>0</td>\n",
              "    </tr>\n",
              "  </tbody>\n",
              "</table>\n",
              "</div>\n",
              "      <button class=\"colab-df-convert\" onclick=\"convertToInteractive('df-c9521d13-382a-435d-b8c5-86cd953dd4af')\"\n",
              "              title=\"Convert this dataframe to an interactive table.\"\n",
              "              style=\"display:none;\">\n",
              "        \n",
              "  <svg xmlns=\"http://www.w3.org/2000/svg\" height=\"24px\"viewBox=\"0 0 24 24\"\n",
              "       width=\"24px\">\n",
              "    <path d=\"M0 0h24v24H0V0z\" fill=\"none\"/>\n",
              "    <path d=\"M18.56 5.44l.94 2.06.94-2.06 2.06-.94-2.06-.94-.94-2.06-.94 2.06-2.06.94zm-11 1L8.5 8.5l.94-2.06 2.06-.94-2.06-.94L8.5 2.5l-.94 2.06-2.06.94zm10 10l.94 2.06.94-2.06 2.06-.94-2.06-.94-.94-2.06-.94 2.06-2.06.94z\"/><path d=\"M17.41 7.96l-1.37-1.37c-.4-.4-.92-.59-1.43-.59-.52 0-1.04.2-1.43.59L10.3 9.45l-7.72 7.72c-.78.78-.78 2.05 0 2.83L4 21.41c.39.39.9.59 1.41.59.51 0 1.02-.2 1.41-.59l7.78-7.78 2.81-2.81c.8-.78.8-2.07 0-2.86zM5.41 20L4 18.59l7.72-7.72 1.47 1.35L5.41 20z\"/>\n",
              "  </svg>\n",
              "      </button>\n",
              "      \n",
              "  <style>\n",
              "    .colab-df-container {\n",
              "      display:flex;\n",
              "      flex-wrap:wrap;\n",
              "      gap: 12px;\n",
              "    }\n",
              "\n",
              "    .colab-df-convert {\n",
              "      background-color: #E8F0FE;\n",
              "      border: none;\n",
              "      border-radius: 50%;\n",
              "      cursor: pointer;\n",
              "      display: none;\n",
              "      fill: #1967D2;\n",
              "      height: 32px;\n",
              "      padding: 0 0 0 0;\n",
              "      width: 32px;\n",
              "    }\n",
              "\n",
              "    .colab-df-convert:hover {\n",
              "      background-color: #E2EBFA;\n",
              "      box-shadow: 0px 1px 2px rgba(60, 64, 67, 0.3), 0px 1px 3px 1px rgba(60, 64, 67, 0.15);\n",
              "      fill: #174EA6;\n",
              "    }\n",
              "\n",
              "    [theme=dark] .colab-df-convert {\n",
              "      background-color: #3B4455;\n",
              "      fill: #D2E3FC;\n",
              "    }\n",
              "\n",
              "    [theme=dark] .colab-df-convert:hover {\n",
              "      background-color: #434B5C;\n",
              "      box-shadow: 0px 1px 3px 1px rgba(0, 0, 0, 0.15);\n",
              "      filter: drop-shadow(0px 1px 2px rgba(0, 0, 0, 0.3));\n",
              "      fill: #FFFFFF;\n",
              "    }\n",
              "  </style>\n",
              "\n",
              "      <script>\n",
              "        const buttonEl =\n",
              "          document.querySelector('#df-c9521d13-382a-435d-b8c5-86cd953dd4af button.colab-df-convert');\n",
              "        buttonEl.style.display =\n",
              "          google.colab.kernel.accessAllowed ? 'block' : 'none';\n",
              "\n",
              "        async function convertToInteractive(key) {\n",
              "          const element = document.querySelector('#df-c9521d13-382a-435d-b8c5-86cd953dd4af');\n",
              "          const dataTable =\n",
              "            await google.colab.kernel.invokeFunction('convertToInteractive',\n",
              "                                                     [key], {});\n",
              "          if (!dataTable) return;\n",
              "\n",
              "          const docLinkHtml = 'Like what you see? Visit the ' +\n",
              "            '<a target=\"_blank\" href=https://colab.research.google.com/notebooks/data_table.ipynb>data table notebook</a>'\n",
              "            + ' to learn more about interactive tables.';\n",
              "          element.innerHTML = '';\n",
              "          dataTable['output_type'] = 'display_data';\n",
              "          await google.colab.output.renderOutput(dataTable, element);\n",
              "          const docLink = document.createElement('div');\n",
              "          docLink.innerHTML = docLinkHtml;\n",
              "          element.appendChild(docLink);\n",
              "        }\n",
              "      </script>\n",
              "    </div>\n",
              "  </div>\n",
              "  "
            ]
          },
          "metadata": {},
          "execution_count": 8
        }
      ],
      "source": [
        "#To look at the first 5 records\n",
        "churn.head()"
      ]
    },
    {
      "cell_type": "code",
      "execution_count": null,
      "metadata": {
        "colab": {
          "base_uri": "https://localhost:8080/",
          "height": 356
        },
        "id": "wSGskDQetRmE",
        "outputId": "67a9067a-2a3a-42e1-d679-547e88287768"
      },
      "outputs": [
        {
          "output_type": "execute_result",
          "data": {
            "text/plain": [
              "      phoneno  age  gender  zipcode  calls  sms  mms  charges  coverage  \\\n",
              "4995     4704  3.0    Male    92697  190.0   29    3      400         0   \n",
              "4996     3149  1.0    Male    92037   40.0   30    4      150         1   \n",
              "4997     7402  3.0    Male    93023   30.0   63   39      240         0   \n",
              "4998     5742  2.0    Male    90034   50.0   65   40      490         0   \n",
              "4999     3689  1.0  Female    92612   80.0   28    4      830         0   \n",
              "\n",
              "      complaint         sim   phone   prepost  churn  \n",
              "4995          1  Single Sim  Andoid  Postpaid      0  \n",
              "4996          4  Single Sim  Andoid  Postpaid      0  \n",
              "4997          2  Single Sim  Andoid   Prepaid      0  \n",
              "4998          3  Single Sim  Andoid  Postpaid      0  \n",
              "4999          3  Single Sim  Andoid  Postpaid      0  "
            ],
            "text/html": [
              "\n",
              "  <div id=\"df-b91edc80-39fe-4226-9edd-30cdb3d27a29\">\n",
              "    <div class=\"colab-df-container\">\n",
              "      <div>\n",
              "<style scoped>\n",
              "    .dataframe tbody tr th:only-of-type {\n",
              "        vertical-align: middle;\n",
              "    }\n",
              "\n",
              "    .dataframe tbody tr th {\n",
              "        vertical-align: top;\n",
              "    }\n",
              "\n",
              "    .dataframe thead th {\n",
              "        text-align: right;\n",
              "    }\n",
              "</style>\n",
              "<table border=\"1\" class=\"dataframe\">\n",
              "  <thead>\n",
              "    <tr style=\"text-align: right;\">\n",
              "      <th></th>\n",
              "      <th>phoneno</th>\n",
              "      <th>age</th>\n",
              "      <th>gender</th>\n",
              "      <th>zipcode</th>\n",
              "      <th>calls</th>\n",
              "      <th>sms</th>\n",
              "      <th>mms</th>\n",
              "      <th>charges</th>\n",
              "      <th>coverage</th>\n",
              "      <th>complaint</th>\n",
              "      <th>sim</th>\n",
              "      <th>phone</th>\n",
              "      <th>prepost</th>\n",
              "      <th>churn</th>\n",
              "    </tr>\n",
              "  </thead>\n",
              "  <tbody>\n",
              "    <tr>\n",
              "      <th>4995</th>\n",
              "      <td>4704</td>\n",
              "      <td>3.0</td>\n",
              "      <td>Male</td>\n",
              "      <td>92697</td>\n",
              "      <td>190.0</td>\n",
              "      <td>29</td>\n",
              "      <td>3</td>\n",
              "      <td>400</td>\n",
              "      <td>0</td>\n",
              "      <td>1</td>\n",
              "      <td>Single Sim</td>\n",
              "      <td>Andoid</td>\n",
              "      <td>Postpaid</td>\n",
              "      <td>0</td>\n",
              "    </tr>\n",
              "    <tr>\n",
              "      <th>4996</th>\n",
              "      <td>3149</td>\n",
              "      <td>1.0</td>\n",
              "      <td>Male</td>\n",
              "      <td>92037</td>\n",
              "      <td>40.0</td>\n",
              "      <td>30</td>\n",
              "      <td>4</td>\n",
              "      <td>150</td>\n",
              "      <td>1</td>\n",
              "      <td>4</td>\n",
              "      <td>Single Sim</td>\n",
              "      <td>Andoid</td>\n",
              "      <td>Postpaid</td>\n",
              "      <td>0</td>\n",
              "    </tr>\n",
              "    <tr>\n",
              "      <th>4997</th>\n",
              "      <td>7402</td>\n",
              "      <td>3.0</td>\n",
              "      <td>Male</td>\n",
              "      <td>93023</td>\n",
              "      <td>30.0</td>\n",
              "      <td>63</td>\n",
              "      <td>39</td>\n",
              "      <td>240</td>\n",
              "      <td>0</td>\n",
              "      <td>2</td>\n",
              "      <td>Single Sim</td>\n",
              "      <td>Andoid</td>\n",
              "      <td>Prepaid</td>\n",
              "      <td>0</td>\n",
              "    </tr>\n",
              "    <tr>\n",
              "      <th>4998</th>\n",
              "      <td>5742</td>\n",
              "      <td>2.0</td>\n",
              "      <td>Male</td>\n",
              "      <td>90034</td>\n",
              "      <td>50.0</td>\n",
              "      <td>65</td>\n",
              "      <td>40</td>\n",
              "      <td>490</td>\n",
              "      <td>0</td>\n",
              "      <td>3</td>\n",
              "      <td>Single Sim</td>\n",
              "      <td>Andoid</td>\n",
              "      <td>Postpaid</td>\n",
              "      <td>0</td>\n",
              "    </tr>\n",
              "    <tr>\n",
              "      <th>4999</th>\n",
              "      <td>3689</td>\n",
              "      <td>1.0</td>\n",
              "      <td>Female</td>\n",
              "      <td>92612</td>\n",
              "      <td>80.0</td>\n",
              "      <td>28</td>\n",
              "      <td>4</td>\n",
              "      <td>830</td>\n",
              "      <td>0</td>\n",
              "      <td>3</td>\n",
              "      <td>Single Sim</td>\n",
              "      <td>Andoid</td>\n",
              "      <td>Postpaid</td>\n",
              "      <td>0</td>\n",
              "    </tr>\n",
              "  </tbody>\n",
              "</table>\n",
              "</div>\n",
              "      <button class=\"colab-df-convert\" onclick=\"convertToInteractive('df-b91edc80-39fe-4226-9edd-30cdb3d27a29')\"\n",
              "              title=\"Convert this dataframe to an interactive table.\"\n",
              "              style=\"display:none;\">\n",
              "        \n",
              "  <svg xmlns=\"http://www.w3.org/2000/svg\" height=\"24px\"viewBox=\"0 0 24 24\"\n",
              "       width=\"24px\">\n",
              "    <path d=\"M0 0h24v24H0V0z\" fill=\"none\"/>\n",
              "    <path d=\"M18.56 5.44l.94 2.06.94-2.06 2.06-.94-2.06-.94-.94-2.06-.94 2.06-2.06.94zm-11 1L8.5 8.5l.94-2.06 2.06-.94-2.06-.94L8.5 2.5l-.94 2.06-2.06.94zm10 10l.94 2.06.94-2.06 2.06-.94-2.06-.94-.94-2.06-.94 2.06-2.06.94z\"/><path d=\"M17.41 7.96l-1.37-1.37c-.4-.4-.92-.59-1.43-.59-.52 0-1.04.2-1.43.59L10.3 9.45l-7.72 7.72c-.78.78-.78 2.05 0 2.83L4 21.41c.39.39.9.59 1.41.59.51 0 1.02-.2 1.41-.59l7.78-7.78 2.81-2.81c.8-.78.8-2.07 0-2.86zM5.41 20L4 18.59l7.72-7.72 1.47 1.35L5.41 20z\"/>\n",
              "  </svg>\n",
              "      </button>\n",
              "      \n",
              "  <style>\n",
              "    .colab-df-container {\n",
              "      display:flex;\n",
              "      flex-wrap:wrap;\n",
              "      gap: 12px;\n",
              "    }\n",
              "\n",
              "    .colab-df-convert {\n",
              "      background-color: #E8F0FE;\n",
              "      border: none;\n",
              "      border-radius: 50%;\n",
              "      cursor: pointer;\n",
              "      display: none;\n",
              "      fill: #1967D2;\n",
              "      height: 32px;\n",
              "      padding: 0 0 0 0;\n",
              "      width: 32px;\n",
              "    }\n",
              "\n",
              "    .colab-df-convert:hover {\n",
              "      background-color: #E2EBFA;\n",
              "      box-shadow: 0px 1px 2px rgba(60, 64, 67, 0.3), 0px 1px 3px 1px rgba(60, 64, 67, 0.15);\n",
              "      fill: #174EA6;\n",
              "    }\n",
              "\n",
              "    [theme=dark] .colab-df-convert {\n",
              "      background-color: #3B4455;\n",
              "      fill: #D2E3FC;\n",
              "    }\n",
              "\n",
              "    [theme=dark] .colab-df-convert:hover {\n",
              "      background-color: #434B5C;\n",
              "      box-shadow: 0px 1px 3px 1px rgba(0, 0, 0, 0.15);\n",
              "      filter: drop-shadow(0px 1px 2px rgba(0, 0, 0, 0.3));\n",
              "      fill: #FFFFFF;\n",
              "    }\n",
              "  </style>\n",
              "\n",
              "      <script>\n",
              "        const buttonEl =\n",
              "          document.querySelector('#df-b91edc80-39fe-4226-9edd-30cdb3d27a29 button.colab-df-convert');\n",
              "        buttonEl.style.display =\n",
              "          google.colab.kernel.accessAllowed ? 'block' : 'none';\n",
              "\n",
              "        async function convertToInteractive(key) {\n",
              "          const element = document.querySelector('#df-b91edc80-39fe-4226-9edd-30cdb3d27a29');\n",
              "          const dataTable =\n",
              "            await google.colab.kernel.invokeFunction('convertToInteractive',\n",
              "                                                     [key], {});\n",
              "          if (!dataTable) return;\n",
              "\n",
              "          const docLinkHtml = 'Like what you see? Visit the ' +\n",
              "            '<a target=\"_blank\" href=https://colab.research.google.com/notebooks/data_table.ipynb>data table notebook</a>'\n",
              "            + ' to learn more about interactive tables.';\n",
              "          element.innerHTML = '';\n",
              "          dataTable['output_type'] = 'display_data';\n",
              "          await google.colab.output.renderOutput(dataTable, element);\n",
              "          const docLink = document.createElement('div');\n",
              "          docLink.innerHTML = docLinkHtml;\n",
              "          element.appendChild(docLink);\n",
              "        }\n",
              "      </script>\n",
              "    </div>\n",
              "  </div>\n",
              "  "
            ]
          },
          "metadata": {},
          "execution_count": 9
        }
      ],
      "source": [
        "#To look at the last 5 rows\n",
        "churn.tail()"
      ]
    },
    {
      "cell_type": "code",
      "execution_count": null,
      "metadata": {
        "colab": {
          "base_uri": "https://localhost:8080/",
          "height": 600
        },
        "id": "7vhmQcHStRmE",
        "outputId": "67516e6e-74a4-42a2-e7ab-ec9b9dfd4c7c"
      },
      "outputs": [
        {
          "output_type": "execute_result",
          "data": {
            "text/plain": [
              "      phoneno  age  gender  zipcode  calls  sms  mms  charges  coverage  \\\n",
              "4991     7850  2.0  Female    91330  190.0   51   25      920         1   \n",
              "1660     6805  1.0    Male    95747   90.0   37   11      340         0   \n",
              "2007     8976  2.0  Female    94010  200.0   48   21      780         0   \n",
              "3297     5491  3.0  Female    93407   30.0   57   32      230         0   \n",
              "2557     1858  3.0    Male    94553   20.0   36   11      230         0   \n",
              "3021     2515  1.0    Male    90245   50.0   54   28     1590         5   \n",
              "851      5956  2.0    Male    94521  140.0   41   16      230         0   \n",
              "1298     6730  2.0  Female    90274  360.0   38   14      740         0   \n",
              "135      7610  1.0  Female    93010    NaN   58   33      450         0   \n",
              "3491     5216  1.0  Female    92697   40.0   51   27      120         0   \n",
              "\n",
              "      complaint         sim   phone   prepost  churn  \n",
              "4991          1  Single Sim  Andoid   Prepaid      0  \n",
              "1660          3  Single Sim  Andoid  Postpaid      0  \n",
              "2007          3  Single Sim  Andoid  Postpaid      0  \n",
              "3297          1  Single Sim  Andoid  Postpaid      0  \n",
              "2557          4  Single Sim  Andoid  Postpaid      0  \n",
              "3021          2  Single Sim  Andoid  Postpaid      0  \n",
              "851           2    Dual Sim  Andoid  Postpaid      0  \n",
              "1298          1  Single Sim  Andoid  Postpaid      0  \n",
              "135           4  Single Sim  Andoid  Postpaid      0  \n",
              "3491          2  Single Sim  Andoid   Prepaid      0  "
            ],
            "text/html": [
              "\n",
              "  <div id=\"df-528ec9c3-6990-4e19-badc-17a3cc30c3a0\">\n",
              "    <div class=\"colab-df-container\">\n",
              "      <div>\n",
              "<style scoped>\n",
              "    .dataframe tbody tr th:only-of-type {\n",
              "        vertical-align: middle;\n",
              "    }\n",
              "\n",
              "    .dataframe tbody tr th {\n",
              "        vertical-align: top;\n",
              "    }\n",
              "\n",
              "    .dataframe thead th {\n",
              "        text-align: right;\n",
              "    }\n",
              "</style>\n",
              "<table border=\"1\" class=\"dataframe\">\n",
              "  <thead>\n",
              "    <tr style=\"text-align: right;\">\n",
              "      <th></th>\n",
              "      <th>phoneno</th>\n",
              "      <th>age</th>\n",
              "      <th>gender</th>\n",
              "      <th>zipcode</th>\n",
              "      <th>calls</th>\n",
              "      <th>sms</th>\n",
              "      <th>mms</th>\n",
              "      <th>charges</th>\n",
              "      <th>coverage</th>\n",
              "      <th>complaint</th>\n",
              "      <th>sim</th>\n",
              "      <th>phone</th>\n",
              "      <th>prepost</th>\n",
              "      <th>churn</th>\n",
              "    </tr>\n",
              "  </thead>\n",
              "  <tbody>\n",
              "    <tr>\n",
              "      <th>4991</th>\n",
              "      <td>7850</td>\n",
              "      <td>2.0</td>\n",
              "      <td>Female</td>\n",
              "      <td>91330</td>\n",
              "      <td>190.0</td>\n",
              "      <td>51</td>\n",
              "      <td>25</td>\n",
              "      <td>920</td>\n",
              "      <td>1</td>\n",
              "      <td>1</td>\n",
              "      <td>Single Sim</td>\n",
              "      <td>Andoid</td>\n",
              "      <td>Prepaid</td>\n",
              "      <td>0</td>\n",
              "    </tr>\n",
              "    <tr>\n",
              "      <th>1660</th>\n",
              "      <td>6805</td>\n",
              "      <td>1.0</td>\n",
              "      <td>Male</td>\n",
              "      <td>95747</td>\n",
              "      <td>90.0</td>\n",
              "      <td>37</td>\n",
              "      <td>11</td>\n",
              "      <td>340</td>\n",
              "      <td>0</td>\n",
              "      <td>3</td>\n",
              "      <td>Single Sim</td>\n",
              "      <td>Andoid</td>\n",
              "      <td>Postpaid</td>\n",
              "      <td>0</td>\n",
              "    </tr>\n",
              "    <tr>\n",
              "      <th>2007</th>\n",
              "      <td>8976</td>\n",
              "      <td>2.0</td>\n",
              "      <td>Female</td>\n",
              "      <td>94010</td>\n",
              "      <td>200.0</td>\n",
              "      <td>48</td>\n",
              "      <td>21</td>\n",
              "      <td>780</td>\n",
              "      <td>0</td>\n",
              "      <td>3</td>\n",
              "      <td>Single Sim</td>\n",
              "      <td>Andoid</td>\n",
              "      <td>Postpaid</td>\n",
              "      <td>0</td>\n",
              "    </tr>\n",
              "    <tr>\n",
              "      <th>3297</th>\n",
              "      <td>5491</td>\n",
              "      <td>3.0</td>\n",
              "      <td>Female</td>\n",
              "      <td>93407</td>\n",
              "      <td>30.0</td>\n",
              "      <td>57</td>\n",
              "      <td>32</td>\n",
              "      <td>230</td>\n",
              "      <td>0</td>\n",
              "      <td>1</td>\n",
              "      <td>Single Sim</td>\n",
              "      <td>Andoid</td>\n",
              "      <td>Postpaid</td>\n",
              "      <td>0</td>\n",
              "    </tr>\n",
              "    <tr>\n",
              "      <th>2557</th>\n",
              "      <td>1858</td>\n",
              "      <td>3.0</td>\n",
              "      <td>Male</td>\n",
              "      <td>94553</td>\n",
              "      <td>20.0</td>\n",
              "      <td>36</td>\n",
              "      <td>11</td>\n",
              "      <td>230</td>\n",
              "      <td>0</td>\n",
              "      <td>4</td>\n",
              "      <td>Single Sim</td>\n",
              "      <td>Andoid</td>\n",
              "      <td>Postpaid</td>\n",
              "      <td>0</td>\n",
              "    </tr>\n",
              "    <tr>\n",
              "      <th>3021</th>\n",
              "      <td>2515</td>\n",
              "      <td>1.0</td>\n",
              "      <td>Male</td>\n",
              "      <td>90245</td>\n",
              "      <td>50.0</td>\n",
              "      <td>54</td>\n",
              "      <td>28</td>\n",
              "      <td>1590</td>\n",
              "      <td>5</td>\n",
              "      <td>2</td>\n",
              "      <td>Single Sim</td>\n",
              "      <td>Andoid</td>\n",
              "      <td>Postpaid</td>\n",
              "      <td>0</td>\n",
              "    </tr>\n",
              "    <tr>\n",
              "      <th>851</th>\n",
              "      <td>5956</td>\n",
              "      <td>2.0</td>\n",
              "      <td>Male</td>\n",
              "      <td>94521</td>\n",
              "      <td>140.0</td>\n",
              "      <td>41</td>\n",
              "      <td>16</td>\n",
              "      <td>230</td>\n",
              "      <td>0</td>\n",
              "      <td>2</td>\n",
              "      <td>Dual Sim</td>\n",
              "      <td>Andoid</td>\n",
              "      <td>Postpaid</td>\n",
              "      <td>0</td>\n",
              "    </tr>\n",
              "    <tr>\n",
              "      <th>1298</th>\n",
              "      <td>6730</td>\n",
              "      <td>2.0</td>\n",
              "      <td>Female</td>\n",
              "      <td>90274</td>\n",
              "      <td>360.0</td>\n",
              "      <td>38</td>\n",
              "      <td>14</td>\n",
              "      <td>740</td>\n",
              "      <td>0</td>\n",
              "      <td>1</td>\n",
              "      <td>Single Sim</td>\n",
              "      <td>Andoid</td>\n",
              "      <td>Postpaid</td>\n",
              "      <td>0</td>\n",
              "    </tr>\n",
              "    <tr>\n",
              "      <th>135</th>\n",
              "      <td>7610</td>\n",
              "      <td>1.0</td>\n",
              "      <td>Female</td>\n",
              "      <td>93010</td>\n",
              "      <td>NaN</td>\n",
              "      <td>58</td>\n",
              "      <td>33</td>\n",
              "      <td>450</td>\n",
              "      <td>0</td>\n",
              "      <td>4</td>\n",
              "      <td>Single Sim</td>\n",
              "      <td>Andoid</td>\n",
              "      <td>Postpaid</td>\n",
              "      <td>0</td>\n",
              "    </tr>\n",
              "    <tr>\n",
              "      <th>3491</th>\n",
              "      <td>5216</td>\n",
              "      <td>1.0</td>\n",
              "      <td>Female</td>\n",
              "      <td>92697</td>\n",
              "      <td>40.0</td>\n",
              "      <td>51</td>\n",
              "      <td>27</td>\n",
              "      <td>120</td>\n",
              "      <td>0</td>\n",
              "      <td>2</td>\n",
              "      <td>Single Sim</td>\n",
              "      <td>Andoid</td>\n",
              "      <td>Prepaid</td>\n",
              "      <td>0</td>\n",
              "    </tr>\n",
              "  </tbody>\n",
              "</table>\n",
              "</div>\n",
              "      <button class=\"colab-df-convert\" onclick=\"convertToInteractive('df-528ec9c3-6990-4e19-badc-17a3cc30c3a0')\"\n",
              "              title=\"Convert this dataframe to an interactive table.\"\n",
              "              style=\"display:none;\">\n",
              "        \n",
              "  <svg xmlns=\"http://www.w3.org/2000/svg\" height=\"24px\"viewBox=\"0 0 24 24\"\n",
              "       width=\"24px\">\n",
              "    <path d=\"M0 0h24v24H0V0z\" fill=\"none\"/>\n",
              "    <path d=\"M18.56 5.44l.94 2.06.94-2.06 2.06-.94-2.06-.94-.94-2.06-.94 2.06-2.06.94zm-11 1L8.5 8.5l.94-2.06 2.06-.94-2.06-.94L8.5 2.5l-.94 2.06-2.06.94zm10 10l.94 2.06.94-2.06 2.06-.94-2.06-.94-.94-2.06-.94 2.06-2.06.94z\"/><path d=\"M17.41 7.96l-1.37-1.37c-.4-.4-.92-.59-1.43-.59-.52 0-1.04.2-1.43.59L10.3 9.45l-7.72 7.72c-.78.78-.78 2.05 0 2.83L4 21.41c.39.39.9.59 1.41.59.51 0 1.02-.2 1.41-.59l7.78-7.78 2.81-2.81c.8-.78.8-2.07 0-2.86zM5.41 20L4 18.59l7.72-7.72 1.47 1.35L5.41 20z\"/>\n",
              "  </svg>\n",
              "      </button>\n",
              "      \n",
              "  <style>\n",
              "    .colab-df-container {\n",
              "      display:flex;\n",
              "      flex-wrap:wrap;\n",
              "      gap: 12px;\n",
              "    }\n",
              "\n",
              "    .colab-df-convert {\n",
              "      background-color: #E8F0FE;\n",
              "      border: none;\n",
              "      border-radius: 50%;\n",
              "      cursor: pointer;\n",
              "      display: none;\n",
              "      fill: #1967D2;\n",
              "      height: 32px;\n",
              "      padding: 0 0 0 0;\n",
              "      width: 32px;\n",
              "    }\n",
              "\n",
              "    .colab-df-convert:hover {\n",
              "      background-color: #E2EBFA;\n",
              "      box-shadow: 0px 1px 2px rgba(60, 64, 67, 0.3), 0px 1px 3px 1px rgba(60, 64, 67, 0.15);\n",
              "      fill: #174EA6;\n",
              "    }\n",
              "\n",
              "    [theme=dark] .colab-df-convert {\n",
              "      background-color: #3B4455;\n",
              "      fill: #D2E3FC;\n",
              "    }\n",
              "\n",
              "    [theme=dark] .colab-df-convert:hover {\n",
              "      background-color: #434B5C;\n",
              "      box-shadow: 0px 1px 3px 1px rgba(0, 0, 0, 0.15);\n",
              "      filter: drop-shadow(0px 1px 2px rgba(0, 0, 0, 0.3));\n",
              "      fill: #FFFFFF;\n",
              "    }\n",
              "  </style>\n",
              "\n",
              "      <script>\n",
              "        const buttonEl =\n",
              "          document.querySelector('#df-528ec9c3-6990-4e19-badc-17a3cc30c3a0 button.colab-df-convert');\n",
              "        buttonEl.style.display =\n",
              "          google.colab.kernel.accessAllowed ? 'block' : 'none';\n",
              "\n",
              "        async function convertToInteractive(key) {\n",
              "          const element = document.querySelector('#df-528ec9c3-6990-4e19-badc-17a3cc30c3a0');\n",
              "          const dataTable =\n",
              "            await google.colab.kernel.invokeFunction('convertToInteractive',\n",
              "                                                     [key], {});\n",
              "          if (!dataTable) return;\n",
              "\n",
              "          const docLinkHtml = 'Like what you see? Visit the ' +\n",
              "            '<a target=\"_blank\" href=https://colab.research.google.com/notebooks/data_table.ipynb>data table notebook</a>'\n",
              "            + ' to learn more about interactive tables.';\n",
              "          element.innerHTML = '';\n",
              "          dataTable['output_type'] = 'display_data';\n",
              "          await google.colab.output.renderOutput(dataTable, element);\n",
              "          const docLink = document.createElement('div');\n",
              "          docLink.innerHTML = docLinkHtml;\n",
              "          element.appendChild(docLink);\n",
              "        }\n",
              "      </script>\n",
              "    </div>\n",
              "  </div>\n",
              "  "
            ]
          },
          "metadata": {},
          "execution_count": 10
        }
      ],
      "source": [
        "#To look at the specific last two rows\n",
        "churn.sample(10)"
      ]
    },
    {
      "cell_type": "code",
      "source": [
        "churn[5:7]"
      ],
      "metadata": {
        "colab": {
          "base_uri": "https://localhost:8080/",
          "height": 210
        },
        "id": "3J5Jd4qNRaPr",
        "outputId": "5524340a-2914-4c86-f224-ce1dd8706df8"
      },
      "execution_count": null,
      "outputs": [
        {
          "output_type": "execute_result",
          "data": {
            "text/plain": [
              "   phoneno  age gender  zipcode  calls  sms  mms  charges  coverage  \\\n",
              "5     8970  2.0   Male    92121   40.0   37   13      290         2   \n",
              "6     9042  2.0   Male    91711  150.0   53   27      720         0   \n",
              "\n",
              "   complaint         sim   phone   prepost  churn  \n",
              "5          4  Single Sim  Andoid  Postpaid      0  \n",
              "6          2  Single Sim  Andoid  Postpaid      0  "
            ],
            "text/html": [
              "\n",
              "  <div id=\"df-a2f53028-67ef-457d-b206-457d3e32a82e\">\n",
              "    <div class=\"colab-df-container\">\n",
              "      <div>\n",
              "<style scoped>\n",
              "    .dataframe tbody tr th:only-of-type {\n",
              "        vertical-align: middle;\n",
              "    }\n",
              "\n",
              "    .dataframe tbody tr th {\n",
              "        vertical-align: top;\n",
              "    }\n",
              "\n",
              "    .dataframe thead th {\n",
              "        text-align: right;\n",
              "    }\n",
              "</style>\n",
              "<table border=\"1\" class=\"dataframe\">\n",
              "  <thead>\n",
              "    <tr style=\"text-align: right;\">\n",
              "      <th></th>\n",
              "      <th>phoneno</th>\n",
              "      <th>age</th>\n",
              "      <th>gender</th>\n",
              "      <th>zipcode</th>\n",
              "      <th>calls</th>\n",
              "      <th>sms</th>\n",
              "      <th>mms</th>\n",
              "      <th>charges</th>\n",
              "      <th>coverage</th>\n",
              "      <th>complaint</th>\n",
              "      <th>sim</th>\n",
              "      <th>phone</th>\n",
              "      <th>prepost</th>\n",
              "      <th>churn</th>\n",
              "    </tr>\n",
              "  </thead>\n",
              "  <tbody>\n",
              "    <tr>\n",
              "      <th>5</th>\n",
              "      <td>8970</td>\n",
              "      <td>2.0</td>\n",
              "      <td>Male</td>\n",
              "      <td>92121</td>\n",
              "      <td>40.0</td>\n",
              "      <td>37</td>\n",
              "      <td>13</td>\n",
              "      <td>290</td>\n",
              "      <td>2</td>\n",
              "      <td>4</td>\n",
              "      <td>Single Sim</td>\n",
              "      <td>Andoid</td>\n",
              "      <td>Postpaid</td>\n",
              "      <td>0</td>\n",
              "    </tr>\n",
              "    <tr>\n",
              "      <th>6</th>\n",
              "      <td>9042</td>\n",
              "      <td>2.0</td>\n",
              "      <td>Male</td>\n",
              "      <td>91711</td>\n",
              "      <td>150.0</td>\n",
              "      <td>53</td>\n",
              "      <td>27</td>\n",
              "      <td>720</td>\n",
              "      <td>0</td>\n",
              "      <td>2</td>\n",
              "      <td>Single Sim</td>\n",
              "      <td>Andoid</td>\n",
              "      <td>Postpaid</td>\n",
              "      <td>0</td>\n",
              "    </tr>\n",
              "  </tbody>\n",
              "</table>\n",
              "</div>\n",
              "      <button class=\"colab-df-convert\" onclick=\"convertToInteractive('df-a2f53028-67ef-457d-b206-457d3e32a82e')\"\n",
              "              title=\"Convert this dataframe to an interactive table.\"\n",
              "              style=\"display:none;\">\n",
              "        \n",
              "  <svg xmlns=\"http://www.w3.org/2000/svg\" height=\"24px\"viewBox=\"0 0 24 24\"\n",
              "       width=\"24px\">\n",
              "    <path d=\"M0 0h24v24H0V0z\" fill=\"none\"/>\n",
              "    <path d=\"M18.56 5.44l.94 2.06.94-2.06 2.06-.94-2.06-.94-.94-2.06-.94 2.06-2.06.94zm-11 1L8.5 8.5l.94-2.06 2.06-.94-2.06-.94L8.5 2.5l-.94 2.06-2.06.94zm10 10l.94 2.06.94-2.06 2.06-.94-2.06-.94-.94-2.06-.94 2.06-2.06.94z\"/><path d=\"M17.41 7.96l-1.37-1.37c-.4-.4-.92-.59-1.43-.59-.52 0-1.04.2-1.43.59L10.3 9.45l-7.72 7.72c-.78.78-.78 2.05 0 2.83L4 21.41c.39.39.9.59 1.41.59.51 0 1.02-.2 1.41-.59l7.78-7.78 2.81-2.81c.8-.78.8-2.07 0-2.86zM5.41 20L4 18.59l7.72-7.72 1.47 1.35L5.41 20z\"/>\n",
              "  </svg>\n",
              "      </button>\n",
              "      \n",
              "  <style>\n",
              "    .colab-df-container {\n",
              "      display:flex;\n",
              "      flex-wrap:wrap;\n",
              "      gap: 12px;\n",
              "    }\n",
              "\n",
              "    .colab-df-convert {\n",
              "      background-color: #E8F0FE;\n",
              "      border: none;\n",
              "      border-radius: 50%;\n",
              "      cursor: pointer;\n",
              "      display: none;\n",
              "      fill: #1967D2;\n",
              "      height: 32px;\n",
              "      padding: 0 0 0 0;\n",
              "      width: 32px;\n",
              "    }\n",
              "\n",
              "    .colab-df-convert:hover {\n",
              "      background-color: #E2EBFA;\n",
              "      box-shadow: 0px 1px 2px rgba(60, 64, 67, 0.3), 0px 1px 3px 1px rgba(60, 64, 67, 0.15);\n",
              "      fill: #174EA6;\n",
              "    }\n",
              "\n",
              "    [theme=dark] .colab-df-convert {\n",
              "      background-color: #3B4455;\n",
              "      fill: #D2E3FC;\n",
              "    }\n",
              "\n",
              "    [theme=dark] .colab-df-convert:hover {\n",
              "      background-color: #434B5C;\n",
              "      box-shadow: 0px 1px 3px 1px rgba(0, 0, 0, 0.15);\n",
              "      filter: drop-shadow(0px 1px 2px rgba(0, 0, 0, 0.3));\n",
              "      fill: #FFFFFF;\n",
              "    }\n",
              "  </style>\n",
              "\n",
              "      <script>\n",
              "        const buttonEl =\n",
              "          document.querySelector('#df-a2f53028-67ef-457d-b206-457d3e32a82e button.colab-df-convert');\n",
              "        buttonEl.style.display =\n",
              "          google.colab.kernel.accessAllowed ? 'block' : 'none';\n",
              "\n",
              "        async function convertToInteractive(key) {\n",
              "          const element = document.querySelector('#df-a2f53028-67ef-457d-b206-457d3e32a82e');\n",
              "          const dataTable =\n",
              "            await google.colab.kernel.invokeFunction('convertToInteractive',\n",
              "                                                     [key], {});\n",
              "          if (!dataTable) return;\n",
              "\n",
              "          const docLinkHtml = 'Like what you see? Visit the ' +\n",
              "            '<a target=\"_blank\" href=https://colab.research.google.com/notebooks/data_table.ipynb>data table notebook</a>'\n",
              "            + ' to learn more about interactive tables.';\n",
              "          element.innerHTML = '';\n",
              "          dataTable['output_type'] = 'display_data';\n",
              "          await google.colab.output.renderOutput(dataTable, element);\n",
              "          const docLink = document.createElement('div');\n",
              "          docLink.innerHTML = docLinkHtml;\n",
              "          element.appendChild(docLink);\n",
              "        }\n",
              "      </script>\n",
              "    </div>\n",
              "  </div>\n",
              "  "
            ]
          },
          "metadata": {},
          "execution_count": 11
        }
      ]
    },
    {
      "cell_type": "code",
      "execution_count": null,
      "metadata": {
        "colab": {
          "base_uri": "https://localhost:8080/",
          "height": 600
        },
        "id": "TBGk-bGMtRmF",
        "outputId": "21bdb8ae-474a-4143-e306-595c3db9651e"
      },
      "outputs": [
        {
          "output_type": "execute_result",
          "data": {
            "text/plain": [
              "      phoneno  age  gender  zipcode  calls  sms  mms  charges  coverage  \\\n",
              "4990     2551  3.0  Female    95023  200.0   55   25      580         3   \n",
              "4991     7850  2.0  Female    91330  190.0   51   25      920         1   \n",
              "4992     7011  3.0    Male    90037   50.0   30    5      130         0   \n",
              "4993     6425  1.0    Male    91801  667.0   45   21     2180         0   \n",
              "4994     6047  3.0    Male    94588  200.0   64   40      750         0   \n",
              "4995     4704  3.0    Male    92697  190.0   29    3      400         0   \n",
              "4996     3149  1.0    Male    92037   40.0   30    4      150         1   \n",
              "4997     7402  3.0    Male    93023   30.0   63   39      240         0   \n",
              "4998     5742  2.0    Male    90034   50.0   65   40      490         0   \n",
              "4999     3689  1.0  Female    92612   80.0   28    4      830         0   \n",
              "\n",
              "      complaint         sim   phone   prepost  churn  \n",
              "4990          4  Single Sim  Andoid   Prepaid      0  \n",
              "4991          1  Single Sim  Andoid   Prepaid      0  \n",
              "4992          4  Single Sim  Andoid   Prepaid      0  \n",
              "4993          2  Single Sim  Andoid  Postpaid      0  \n",
              "4994          3  Single Sim  Andoid  Postpaid      0  \n",
              "4995          1  Single Sim  Andoid  Postpaid      0  \n",
              "4996          4  Single Sim  Andoid  Postpaid      0  \n",
              "4997          2  Single Sim  Andoid   Prepaid      0  \n",
              "4998          3  Single Sim  Andoid  Postpaid      0  \n",
              "4999          3  Single Sim  Andoid  Postpaid      0  "
            ],
            "text/html": [
              "\n",
              "  <div id=\"df-d09170d6-65ee-4975-9a54-bfb902771f39\">\n",
              "    <div class=\"colab-df-container\">\n",
              "      <div>\n",
              "<style scoped>\n",
              "    .dataframe tbody tr th:only-of-type {\n",
              "        vertical-align: middle;\n",
              "    }\n",
              "\n",
              "    .dataframe tbody tr th {\n",
              "        vertical-align: top;\n",
              "    }\n",
              "\n",
              "    .dataframe thead th {\n",
              "        text-align: right;\n",
              "    }\n",
              "</style>\n",
              "<table border=\"1\" class=\"dataframe\">\n",
              "  <thead>\n",
              "    <tr style=\"text-align: right;\">\n",
              "      <th></th>\n",
              "      <th>phoneno</th>\n",
              "      <th>age</th>\n",
              "      <th>gender</th>\n",
              "      <th>zipcode</th>\n",
              "      <th>calls</th>\n",
              "      <th>sms</th>\n",
              "      <th>mms</th>\n",
              "      <th>charges</th>\n",
              "      <th>coverage</th>\n",
              "      <th>complaint</th>\n",
              "      <th>sim</th>\n",
              "      <th>phone</th>\n",
              "      <th>prepost</th>\n",
              "      <th>churn</th>\n",
              "    </tr>\n",
              "  </thead>\n",
              "  <tbody>\n",
              "    <tr>\n",
              "      <th>4990</th>\n",
              "      <td>2551</td>\n",
              "      <td>3.0</td>\n",
              "      <td>Female</td>\n",
              "      <td>95023</td>\n",
              "      <td>200.0</td>\n",
              "      <td>55</td>\n",
              "      <td>25</td>\n",
              "      <td>580</td>\n",
              "      <td>3</td>\n",
              "      <td>4</td>\n",
              "      <td>Single Sim</td>\n",
              "      <td>Andoid</td>\n",
              "      <td>Prepaid</td>\n",
              "      <td>0</td>\n",
              "    </tr>\n",
              "    <tr>\n",
              "      <th>4991</th>\n",
              "      <td>7850</td>\n",
              "      <td>2.0</td>\n",
              "      <td>Female</td>\n",
              "      <td>91330</td>\n",
              "      <td>190.0</td>\n",
              "      <td>51</td>\n",
              "      <td>25</td>\n",
              "      <td>920</td>\n",
              "      <td>1</td>\n",
              "      <td>1</td>\n",
              "      <td>Single Sim</td>\n",
              "      <td>Andoid</td>\n",
              "      <td>Prepaid</td>\n",
              "      <td>0</td>\n",
              "    </tr>\n",
              "    <tr>\n",
              "      <th>4992</th>\n",
              "      <td>7011</td>\n",
              "      <td>3.0</td>\n",
              "      <td>Male</td>\n",
              "      <td>90037</td>\n",
              "      <td>50.0</td>\n",
              "      <td>30</td>\n",
              "      <td>5</td>\n",
              "      <td>130</td>\n",
              "      <td>0</td>\n",
              "      <td>4</td>\n",
              "      <td>Single Sim</td>\n",
              "      <td>Andoid</td>\n",
              "      <td>Prepaid</td>\n",
              "      <td>0</td>\n",
              "    </tr>\n",
              "    <tr>\n",
              "      <th>4993</th>\n",
              "      <td>6425</td>\n",
              "      <td>1.0</td>\n",
              "      <td>Male</td>\n",
              "      <td>91801</td>\n",
              "      <td>667.0</td>\n",
              "      <td>45</td>\n",
              "      <td>21</td>\n",
              "      <td>2180</td>\n",
              "      <td>0</td>\n",
              "      <td>2</td>\n",
              "      <td>Single Sim</td>\n",
              "      <td>Andoid</td>\n",
              "      <td>Postpaid</td>\n",
              "      <td>0</td>\n",
              "    </tr>\n",
              "    <tr>\n",
              "      <th>4994</th>\n",
              "      <td>6047</td>\n",
              "      <td>3.0</td>\n",
              "      <td>Male</td>\n",
              "      <td>94588</td>\n",
              "      <td>200.0</td>\n",
              "      <td>64</td>\n",
              "      <td>40</td>\n",
              "      <td>750</td>\n",
              "      <td>0</td>\n",
              "      <td>3</td>\n",
              "      <td>Single Sim</td>\n",
              "      <td>Andoid</td>\n",
              "      <td>Postpaid</td>\n",
              "      <td>0</td>\n",
              "    </tr>\n",
              "    <tr>\n",
              "      <th>4995</th>\n",
              "      <td>4704</td>\n",
              "      <td>3.0</td>\n",
              "      <td>Male</td>\n",
              "      <td>92697</td>\n",
              "      <td>190.0</td>\n",
              "      <td>29</td>\n",
              "      <td>3</td>\n",
              "      <td>400</td>\n",
              "      <td>0</td>\n",
              "      <td>1</td>\n",
              "      <td>Single Sim</td>\n",
              "      <td>Andoid</td>\n",
              "      <td>Postpaid</td>\n",
              "      <td>0</td>\n",
              "    </tr>\n",
              "    <tr>\n",
              "      <th>4996</th>\n",
              "      <td>3149</td>\n",
              "      <td>1.0</td>\n",
              "      <td>Male</td>\n",
              "      <td>92037</td>\n",
              "      <td>40.0</td>\n",
              "      <td>30</td>\n",
              "      <td>4</td>\n",
              "      <td>150</td>\n",
              "      <td>1</td>\n",
              "      <td>4</td>\n",
              "      <td>Single Sim</td>\n",
              "      <td>Andoid</td>\n",
              "      <td>Postpaid</td>\n",
              "      <td>0</td>\n",
              "    </tr>\n",
              "    <tr>\n",
              "      <th>4997</th>\n",
              "      <td>7402</td>\n",
              "      <td>3.0</td>\n",
              "      <td>Male</td>\n",
              "      <td>93023</td>\n",
              "      <td>30.0</td>\n",
              "      <td>63</td>\n",
              "      <td>39</td>\n",
              "      <td>240</td>\n",
              "      <td>0</td>\n",
              "      <td>2</td>\n",
              "      <td>Single Sim</td>\n",
              "      <td>Andoid</td>\n",
              "      <td>Prepaid</td>\n",
              "      <td>0</td>\n",
              "    </tr>\n",
              "    <tr>\n",
              "      <th>4998</th>\n",
              "      <td>5742</td>\n",
              "      <td>2.0</td>\n",
              "      <td>Male</td>\n",
              "      <td>90034</td>\n",
              "      <td>50.0</td>\n",
              "      <td>65</td>\n",
              "      <td>40</td>\n",
              "      <td>490</td>\n",
              "      <td>0</td>\n",
              "      <td>3</td>\n",
              "      <td>Single Sim</td>\n",
              "      <td>Andoid</td>\n",
              "      <td>Postpaid</td>\n",
              "      <td>0</td>\n",
              "    </tr>\n",
              "    <tr>\n",
              "      <th>4999</th>\n",
              "      <td>3689</td>\n",
              "      <td>1.0</td>\n",
              "      <td>Female</td>\n",
              "      <td>92612</td>\n",
              "      <td>80.0</td>\n",
              "      <td>28</td>\n",
              "      <td>4</td>\n",
              "      <td>830</td>\n",
              "      <td>0</td>\n",
              "      <td>3</td>\n",
              "      <td>Single Sim</td>\n",
              "      <td>Andoid</td>\n",
              "      <td>Postpaid</td>\n",
              "      <td>0</td>\n",
              "    </tr>\n",
              "  </tbody>\n",
              "</table>\n",
              "</div>\n",
              "      <button class=\"colab-df-convert\" onclick=\"convertToInteractive('df-d09170d6-65ee-4975-9a54-bfb902771f39')\"\n",
              "              title=\"Convert this dataframe to an interactive table.\"\n",
              "              style=\"display:none;\">\n",
              "        \n",
              "  <svg xmlns=\"http://www.w3.org/2000/svg\" height=\"24px\"viewBox=\"0 0 24 24\"\n",
              "       width=\"24px\">\n",
              "    <path d=\"M0 0h24v24H0V0z\" fill=\"none\"/>\n",
              "    <path d=\"M18.56 5.44l.94 2.06.94-2.06 2.06-.94-2.06-.94-.94-2.06-.94 2.06-2.06.94zm-11 1L8.5 8.5l.94-2.06 2.06-.94-2.06-.94L8.5 2.5l-.94 2.06-2.06.94zm10 10l.94 2.06.94-2.06 2.06-.94-2.06-.94-.94-2.06-.94 2.06-2.06.94z\"/><path d=\"M17.41 7.96l-1.37-1.37c-.4-.4-.92-.59-1.43-.59-.52 0-1.04.2-1.43.59L10.3 9.45l-7.72 7.72c-.78.78-.78 2.05 0 2.83L4 21.41c.39.39.9.59 1.41.59.51 0 1.02-.2 1.41-.59l7.78-7.78 2.81-2.81c.8-.78.8-2.07 0-2.86zM5.41 20L4 18.59l7.72-7.72 1.47 1.35L5.41 20z\"/>\n",
              "  </svg>\n",
              "      </button>\n",
              "      \n",
              "  <style>\n",
              "    .colab-df-container {\n",
              "      display:flex;\n",
              "      flex-wrap:wrap;\n",
              "      gap: 12px;\n",
              "    }\n",
              "\n",
              "    .colab-df-convert {\n",
              "      background-color: #E8F0FE;\n",
              "      border: none;\n",
              "      border-radius: 50%;\n",
              "      cursor: pointer;\n",
              "      display: none;\n",
              "      fill: #1967D2;\n",
              "      height: 32px;\n",
              "      padding: 0 0 0 0;\n",
              "      width: 32px;\n",
              "    }\n",
              "\n",
              "    .colab-df-convert:hover {\n",
              "      background-color: #E2EBFA;\n",
              "      box-shadow: 0px 1px 2px rgba(60, 64, 67, 0.3), 0px 1px 3px 1px rgba(60, 64, 67, 0.15);\n",
              "      fill: #174EA6;\n",
              "    }\n",
              "\n",
              "    [theme=dark] .colab-df-convert {\n",
              "      background-color: #3B4455;\n",
              "      fill: #D2E3FC;\n",
              "    }\n",
              "\n",
              "    [theme=dark] .colab-df-convert:hover {\n",
              "      background-color: #434B5C;\n",
              "      box-shadow: 0px 1px 3px 1px rgba(0, 0, 0, 0.15);\n",
              "      filter: drop-shadow(0px 1px 2px rgba(0, 0, 0, 0.3));\n",
              "      fill: #FFFFFF;\n",
              "    }\n",
              "  </style>\n",
              "\n",
              "      <script>\n",
              "        const buttonEl =\n",
              "          document.querySelector('#df-d09170d6-65ee-4975-9a54-bfb902771f39 button.colab-df-convert');\n",
              "        buttonEl.style.display =\n",
              "          google.colab.kernel.accessAllowed ? 'block' : 'none';\n",
              "\n",
              "        async function convertToInteractive(key) {\n",
              "          const element = document.querySelector('#df-d09170d6-65ee-4975-9a54-bfb902771f39');\n",
              "          const dataTable =\n",
              "            await google.colab.kernel.invokeFunction('convertToInteractive',\n",
              "                                                     [key], {});\n",
              "          if (!dataTable) return;\n",
              "\n",
              "          const docLinkHtml = 'Like what you see? Visit the ' +\n",
              "            '<a target=\"_blank\" href=https://colab.research.google.com/notebooks/data_table.ipynb>data table notebook</a>'\n",
              "            + ' to learn more about interactive tables.';\n",
              "          element.innerHTML = '';\n",
              "          dataTable['output_type'] = 'display_data';\n",
              "          await google.colab.output.renderOutput(dataTable, element);\n",
              "          const docLink = document.createElement('div');\n",
              "          docLink.innerHTML = docLinkHtml;\n",
              "          element.appendChild(docLink);\n",
              "        }\n",
              "      </script>\n",
              "    </div>\n",
              "  </div>\n",
              "  "
            ]
          },
          "metadata": {},
          "execution_count": 12
        }
      ],
      "source": [
        "churn[-10:]"
      ]
    },
    {
      "cell_type": "code",
      "execution_count": null,
      "metadata": {
        "colab": {
          "base_uri": "https://localhost:8080/"
        },
        "id": "MoWWHXg4tRmG",
        "outputId": "5aa388ea-f30e-459b-eb4f-0642e6036313"
      },
      "outputs": [
        {
          "output_type": "stream",
          "name": "stdout",
          "text": [
            "<class 'pandas.core.frame.DataFrame'>\n",
            "RangeIndex: 5000 entries, 0 to 4999\n",
            "Data columns (total 14 columns):\n",
            " #   Column     Non-Null Count  Dtype  \n",
            "---  ------     --------------  -----  \n",
            " 0   phoneno    5000 non-null   int64  \n",
            " 1   age        4994 non-null   float64\n",
            " 2   gender     5000 non-null   object \n",
            " 3   zipcode    5000 non-null   int64  \n",
            " 4   calls      4994 non-null   float64\n",
            " 5   sms        5000 non-null   int64  \n",
            " 6   mms        5000 non-null   int64  \n",
            " 7   charges    5000 non-null   int64  \n",
            " 8   coverage   5000 non-null   int64  \n",
            " 9   complaint  5000 non-null   int64  \n",
            " 10  sim        5000 non-null   object \n",
            " 11  phone      5000 non-null   object \n",
            " 12  prepost    5000 non-null   object \n",
            " 13  churn      5000 non-null   int64  \n",
            "dtypes: float64(2), int64(8), object(4)\n",
            "memory usage: 547.0+ KB\n"
          ]
        }
      ],
      "source": [
        "#To look at the information regarding the dataset\n",
        "churn.info()"
      ]
    },
    {
      "cell_type": "markdown",
      "metadata": {
        "id": "3BR8E7WUye4D"
      },
      "source": [
        "#The info command shows that there are 5000 rows. It also indicates the column names and their data type. \n",
        "#The columns \"age\" and \"calls\" have only 4994 and 4994 records indicating the presence of \"na\" values"
      ]
    },
    {
      "cell_type": "code",
      "execution_count": null,
      "metadata": {
        "id": "fgj9Pet7ye4D",
        "outputId": "d985e8ac-05ab-4373-a39f-f190a2becabf",
        "colab": {
          "base_uri": "https://localhost:8080/",
          "height": 364
        }
      },
      "outputs": [
        {
          "output_type": "execute_result",
          "data": {
            "text/plain": [
              "           phoneno          age       zipcode        calls          sms  \\\n",
              "count  5000.000000  4994.000000   5000.000000  4994.000000  5000.000000   \n",
              "mean   5497.188000     1.880457  93152.503000   193.822387    45.338400   \n",
              "std    2603.474018     0.839830   2121.852197   174.823221    11.463166   \n",
              "min    1000.000000     1.000000   9307.000000     0.000000    23.000000   \n",
              "25%    3266.500000     1.000000  91911.000000    70.000000    35.000000   \n",
              "50%    5457.500000     2.000000  93437.000000   150.000000    45.000000   \n",
              "75%    7779.250000     3.000000  94608.000000   250.000000    55.000000   \n",
              "max    9997.000000     3.000000  96651.000000  1000.000000    67.000000   \n",
              "\n",
              "               mms      charges     coverage    complaint        churn  \n",
              "count  5000.000000  5000.000000  5000.000000  5000.000000  5000.000000  \n",
              "mean     20.104600   737.742000     0.719000     2.388600     0.096000  \n",
              "std      11.467954   460.337293     1.233184     1.154061     0.294621  \n",
              "min      -3.000000    80.000000     0.000000     0.000000     0.000000  \n",
              "25%      10.000000   390.000000     0.000000     1.000000     0.000000  \n",
              "50%      20.000000   640.000000     0.000000     2.000000     0.000000  \n",
              "75%      30.000000   980.000000     2.000000     3.000000     0.000000  \n",
              "max      43.000000  2240.000000     7.000000     4.000000     1.000000  "
            ],
            "text/html": [
              "\n",
              "  <div id=\"df-d4db83d3-1ebd-4a41-9621-cf338902d84d\">\n",
              "    <div class=\"colab-df-container\">\n",
              "      <div>\n",
              "<style scoped>\n",
              "    .dataframe tbody tr th:only-of-type {\n",
              "        vertical-align: middle;\n",
              "    }\n",
              "\n",
              "    .dataframe tbody tr th {\n",
              "        vertical-align: top;\n",
              "    }\n",
              "\n",
              "    .dataframe thead th {\n",
              "        text-align: right;\n",
              "    }\n",
              "</style>\n",
              "<table border=\"1\" class=\"dataframe\">\n",
              "  <thead>\n",
              "    <tr style=\"text-align: right;\">\n",
              "      <th></th>\n",
              "      <th>phoneno</th>\n",
              "      <th>age</th>\n",
              "      <th>zipcode</th>\n",
              "      <th>calls</th>\n",
              "      <th>sms</th>\n",
              "      <th>mms</th>\n",
              "      <th>charges</th>\n",
              "      <th>coverage</th>\n",
              "      <th>complaint</th>\n",
              "      <th>churn</th>\n",
              "    </tr>\n",
              "  </thead>\n",
              "  <tbody>\n",
              "    <tr>\n",
              "      <th>count</th>\n",
              "      <td>5000.000000</td>\n",
              "      <td>4994.000000</td>\n",
              "      <td>5000.000000</td>\n",
              "      <td>4994.000000</td>\n",
              "      <td>5000.000000</td>\n",
              "      <td>5000.000000</td>\n",
              "      <td>5000.000000</td>\n",
              "      <td>5000.000000</td>\n",
              "      <td>5000.000000</td>\n",
              "      <td>5000.000000</td>\n",
              "    </tr>\n",
              "    <tr>\n",
              "      <th>mean</th>\n",
              "      <td>5497.188000</td>\n",
              "      <td>1.880457</td>\n",
              "      <td>93152.503000</td>\n",
              "      <td>193.822387</td>\n",
              "      <td>45.338400</td>\n",
              "      <td>20.104600</td>\n",
              "      <td>737.742000</td>\n",
              "      <td>0.719000</td>\n",
              "      <td>2.388600</td>\n",
              "      <td>0.096000</td>\n",
              "    </tr>\n",
              "    <tr>\n",
              "      <th>std</th>\n",
              "      <td>2603.474018</td>\n",
              "      <td>0.839830</td>\n",
              "      <td>2121.852197</td>\n",
              "      <td>174.823221</td>\n",
              "      <td>11.463166</td>\n",
              "      <td>11.467954</td>\n",
              "      <td>460.337293</td>\n",
              "      <td>1.233184</td>\n",
              "      <td>1.154061</td>\n",
              "      <td>0.294621</td>\n",
              "    </tr>\n",
              "    <tr>\n",
              "      <th>min</th>\n",
              "      <td>1000.000000</td>\n",
              "      <td>1.000000</td>\n",
              "      <td>9307.000000</td>\n",
              "      <td>0.000000</td>\n",
              "      <td>23.000000</td>\n",
              "      <td>-3.000000</td>\n",
              "      <td>80.000000</td>\n",
              "      <td>0.000000</td>\n",
              "      <td>0.000000</td>\n",
              "      <td>0.000000</td>\n",
              "    </tr>\n",
              "    <tr>\n",
              "      <th>25%</th>\n",
              "      <td>3266.500000</td>\n",
              "      <td>1.000000</td>\n",
              "      <td>91911.000000</td>\n",
              "      <td>70.000000</td>\n",
              "      <td>35.000000</td>\n",
              "      <td>10.000000</td>\n",
              "      <td>390.000000</td>\n",
              "      <td>0.000000</td>\n",
              "      <td>1.000000</td>\n",
              "      <td>0.000000</td>\n",
              "    </tr>\n",
              "    <tr>\n",
              "      <th>50%</th>\n",
              "      <td>5457.500000</td>\n",
              "      <td>2.000000</td>\n",
              "      <td>93437.000000</td>\n",
              "      <td>150.000000</td>\n",
              "      <td>45.000000</td>\n",
              "      <td>20.000000</td>\n",
              "      <td>640.000000</td>\n",
              "      <td>0.000000</td>\n",
              "      <td>2.000000</td>\n",
              "      <td>0.000000</td>\n",
              "    </tr>\n",
              "    <tr>\n",
              "      <th>75%</th>\n",
              "      <td>7779.250000</td>\n",
              "      <td>3.000000</td>\n",
              "      <td>94608.000000</td>\n",
              "      <td>250.000000</td>\n",
              "      <td>55.000000</td>\n",
              "      <td>30.000000</td>\n",
              "      <td>980.000000</td>\n",
              "      <td>2.000000</td>\n",
              "      <td>3.000000</td>\n",
              "      <td>0.000000</td>\n",
              "    </tr>\n",
              "    <tr>\n",
              "      <th>max</th>\n",
              "      <td>9997.000000</td>\n",
              "      <td>3.000000</td>\n",
              "      <td>96651.000000</td>\n",
              "      <td>1000.000000</td>\n",
              "      <td>67.000000</td>\n",
              "      <td>43.000000</td>\n",
              "      <td>2240.000000</td>\n",
              "      <td>7.000000</td>\n",
              "      <td>4.000000</td>\n",
              "      <td>1.000000</td>\n",
              "    </tr>\n",
              "  </tbody>\n",
              "</table>\n",
              "</div>\n",
              "      <button class=\"colab-df-convert\" onclick=\"convertToInteractive('df-d4db83d3-1ebd-4a41-9621-cf338902d84d')\"\n",
              "              title=\"Convert this dataframe to an interactive table.\"\n",
              "              style=\"display:none;\">\n",
              "        \n",
              "  <svg xmlns=\"http://www.w3.org/2000/svg\" height=\"24px\"viewBox=\"0 0 24 24\"\n",
              "       width=\"24px\">\n",
              "    <path d=\"M0 0h24v24H0V0z\" fill=\"none\"/>\n",
              "    <path d=\"M18.56 5.44l.94 2.06.94-2.06 2.06-.94-2.06-.94-.94-2.06-.94 2.06-2.06.94zm-11 1L8.5 8.5l.94-2.06 2.06-.94-2.06-.94L8.5 2.5l-.94 2.06-2.06.94zm10 10l.94 2.06.94-2.06 2.06-.94-2.06-.94-.94-2.06-.94 2.06-2.06.94z\"/><path d=\"M17.41 7.96l-1.37-1.37c-.4-.4-.92-.59-1.43-.59-.52 0-1.04.2-1.43.59L10.3 9.45l-7.72 7.72c-.78.78-.78 2.05 0 2.83L4 21.41c.39.39.9.59 1.41.59.51 0 1.02-.2 1.41-.59l7.78-7.78 2.81-2.81c.8-.78.8-2.07 0-2.86zM5.41 20L4 18.59l7.72-7.72 1.47 1.35L5.41 20z\"/>\n",
              "  </svg>\n",
              "      </button>\n",
              "      \n",
              "  <style>\n",
              "    .colab-df-container {\n",
              "      display:flex;\n",
              "      flex-wrap:wrap;\n",
              "      gap: 12px;\n",
              "    }\n",
              "\n",
              "    .colab-df-convert {\n",
              "      background-color: #E8F0FE;\n",
              "      border: none;\n",
              "      border-radius: 50%;\n",
              "      cursor: pointer;\n",
              "      display: none;\n",
              "      fill: #1967D2;\n",
              "      height: 32px;\n",
              "      padding: 0 0 0 0;\n",
              "      width: 32px;\n",
              "    }\n",
              "\n",
              "    .colab-df-convert:hover {\n",
              "      background-color: #E2EBFA;\n",
              "      box-shadow: 0px 1px 2px rgba(60, 64, 67, 0.3), 0px 1px 3px 1px rgba(60, 64, 67, 0.15);\n",
              "      fill: #174EA6;\n",
              "    }\n",
              "\n",
              "    [theme=dark] .colab-df-convert {\n",
              "      background-color: #3B4455;\n",
              "      fill: #D2E3FC;\n",
              "    }\n",
              "\n",
              "    [theme=dark] .colab-df-convert:hover {\n",
              "      background-color: #434B5C;\n",
              "      box-shadow: 0px 1px 3px 1px rgba(0, 0, 0, 0.15);\n",
              "      filter: drop-shadow(0px 1px 2px rgba(0, 0, 0, 0.3));\n",
              "      fill: #FFFFFF;\n",
              "    }\n",
              "  </style>\n",
              "\n",
              "      <script>\n",
              "        const buttonEl =\n",
              "          document.querySelector('#df-d4db83d3-1ebd-4a41-9621-cf338902d84d button.colab-df-convert');\n",
              "        buttonEl.style.display =\n",
              "          google.colab.kernel.accessAllowed ? 'block' : 'none';\n",
              "\n",
              "        async function convertToInteractive(key) {\n",
              "          const element = document.querySelector('#df-d4db83d3-1ebd-4a41-9621-cf338902d84d');\n",
              "          const dataTable =\n",
              "            await google.colab.kernel.invokeFunction('convertToInteractive',\n",
              "                                                     [key], {});\n",
              "          if (!dataTable) return;\n",
              "\n",
              "          const docLinkHtml = 'Like what you see? Visit the ' +\n",
              "            '<a target=\"_blank\" href=https://colab.research.google.com/notebooks/data_table.ipynb>data table notebook</a>'\n",
              "            + ' to learn more about interactive tables.';\n",
              "          element.innerHTML = '';\n",
              "          dataTable['output_type'] = 'display_data';\n",
              "          await google.colab.output.renderOutput(dataTable, element);\n",
              "          const docLink = document.createElement('div');\n",
              "          docLink.innerHTML = docLinkHtml;\n",
              "          element.appendChild(docLink);\n",
              "        }\n",
              "      </script>\n",
              "    </div>\n",
              "  </div>\n",
              "  "
            ]
          },
          "metadata": {},
          "execution_count": 14
        }
      ],
      "source": [
        "# To describe the dataset\n",
        "churn.describe()"
      ]
    },
    {
      "cell_type": "code",
      "source": [
        "# To find out the Unique data\n",
        "churn.nunique()"
      ],
      "metadata": {
        "colab": {
          "base_uri": "https://localhost:8080/"
        },
        "id": "AmatyXx5XPNG",
        "outputId": "670460de-d7d8-4df8-a165-f05b1d876363"
      },
      "execution_count": null,
      "outputs": [
        {
          "output_type": "execute_result",
          "data": {
            "text/plain": [
              "phoneno      3838\n",
              "age             3\n",
              "gender          2\n",
              "zipcode       467\n",
              "calls         108\n",
              "sms            45\n",
              "mms            47\n",
              "charges       162\n",
              "coverage        8\n",
              "complaint       5\n",
              "sim             2\n",
              "phone           2\n",
              "prepost         2\n",
              "churn           2\n",
              "dtype: int64"
            ]
          },
          "metadata": {},
          "execution_count": 15
        }
      ]
    },
    {
      "cell_type": "code",
      "source": [
        "# To describe the Column types\n",
        "churn.dtypes"
      ],
      "metadata": {
        "colab": {
          "base_uri": "https://localhost:8080/"
        },
        "id": "AUJoW3QFO0g9",
        "outputId": "6fb12ba2-913f-4ee7-83cc-8e49f91632f6"
      },
      "execution_count": null,
      "outputs": [
        {
          "output_type": "execute_result",
          "data": {
            "text/plain": [
              "phoneno        int64\n",
              "age          float64\n",
              "gender        object\n",
              "zipcode        int64\n",
              "calls        float64\n",
              "sms            int64\n",
              "mms            int64\n",
              "charges        int64\n",
              "coverage       int64\n",
              "complaint      int64\n",
              "sim           object\n",
              "phone         object\n",
              "prepost       object\n",
              "churn          int64\n",
              "dtype: object"
            ]
          },
          "metadata": {},
          "execution_count": 16
        }
      ]
    },
    {
      "cell_type": "code",
      "source": [
        "# Check to see if na values exist\n",
        "churn.isna().sum()"
      ],
      "metadata": {
        "colab": {
          "base_uri": "https://localhost:8080/"
        },
        "id": "2c9BAF3pTmhw",
        "outputId": "d17d5e6e-6bc5-4cbc-8c54-2c6365d18889"
      },
      "execution_count": null,
      "outputs": [
        {
          "output_type": "execute_result",
          "data": {
            "text/plain": [
              "phoneno      0\n",
              "age          6\n",
              "gender       0\n",
              "zipcode      0\n",
              "calls        6\n",
              "sms          0\n",
              "mms          0\n",
              "charges      0\n",
              "coverage     0\n",
              "complaint    0\n",
              "sim          0\n",
              "phone        0\n",
              "prepost      0\n",
              "churn        0\n",
              "dtype: int64"
            ]
          },
          "metadata": {},
          "execution_count": 17
        }
      ]
    },
    {
      "cell_type": "code",
      "source": [
        "#To find value counts ( This is similar to the table function in R)\n",
        "churn['complaint'].value_counts()"
      ],
      "metadata": {
        "colab": {
          "base_uri": "https://localhost:8080/"
        },
        "id": "s-BB_NpuYpn5",
        "outputId": "bf1a3fb7-8220-4454-cbe6-437ceecf05c4"
      },
      "execution_count": null,
      "outputs": [
        {
          "output_type": "execute_result",
          "data": {
            "text/plain": [
              "1    1464\n",
              "2    1292\n",
              "4    1217\n",
              "3    1009\n",
              "0      18\n",
              "Name: complaint, dtype: int64"
            ]
          },
          "metadata": {},
          "execution_count": 18
        }
      ]
    },
    {
      "cell_type": "code",
      "execution_count": null,
      "metadata": {
        "id": "rXgGDDXVye4F"
      },
      "outputs": [],
      "source": [
        "#To convert into categorical variables using Pandas\n",
        "churn['complaint'] = pd.Categorical(churn['complaint'])\n",
        "assert churn['complaint'].dtype == 'category'"
      ]
    },
    {
      "cell_type": "code",
      "execution_count": null,
      "metadata": {
        "id": "VTTbMWdVye4E",
        "outputId": "9ee682e5-b957-4eb7-b193-aba718d368a6",
        "colab": {
          "base_uri": "https://localhost:8080/"
        }
      },
      "outputs": [
        {
          "output_type": "execute_result",
          "data": {
            "text/plain": [
              "1.0    2095\n",
              "3.0    1498\n",
              "2.0    1401\n",
              "Name: age, dtype: int64"
            ]
          },
          "metadata": {},
          "execution_count": 20
        }
      ],
      "source": [
        "#To find value counts ( This is similar to the table function in R)\n",
        "churn['age'].value_counts()"
      ]
    },
    {
      "cell_type": "code",
      "source": [
        "# To convert the datatype using Python astype\n",
        "#churn['age'] = pd.Categorical(churn['age'].astype(int))"
      ],
      "metadata": {
        "id": "ngTBHH7kYxTu"
      },
      "execution_count": null,
      "outputs": []
    },
    {
      "cell_type": "code",
      "source": [
        "churn['age'].isnull().sum()"
      ],
      "metadata": {
        "colab": {
          "base_uri": "https://localhost:8080/"
        },
        "id": "ISKP4i0lJ6Bt",
        "outputId": "e3482b1c-669b-4b14-d90f-75a9616b8286"
      },
      "execution_count": null,
      "outputs": [
        {
          "output_type": "execute_result",
          "data": {
            "text/plain": [
              "6"
            ]
          },
          "metadata": {},
          "execution_count": 22
        }
      ]
    },
    {
      "cell_type": "code",
      "source": [
        "# Drop the rows with the na values\n",
        "churn.drop(churn[churn['age'].isnull()].index, inplace=True)"
      ],
      "metadata": {
        "id": "L2tbBx0ZT6N8"
      },
      "execution_count": null,
      "outputs": []
    },
    {
      "cell_type": "code",
      "source": [
        "churn['age'].isnull().sum()"
      ],
      "metadata": {
        "colab": {
          "base_uri": "https://localhost:8080/"
        },
        "id": "rt9GqpHbKm72",
        "outputId": "4c2faa0a-2a56-48aa-f094-27183e3b9999"
      },
      "execution_count": null,
      "outputs": [
        {
          "output_type": "execute_result",
          "data": {
            "text/plain": [
              "0"
            ]
          },
          "metadata": {},
          "execution_count": 24
        }
      ]
    },
    {
      "cell_type": "code",
      "source": [
        "churn['calls'].isnull().sum()"
      ],
      "metadata": {
        "colab": {
          "base_uri": "https://localhost:8080/"
        },
        "id": "WzgUo4q3LFx7",
        "outputId": "30cb84d1-6bcb-4b6d-a7c5-753e6da7d7e4"
      },
      "execution_count": null,
      "outputs": [
        {
          "output_type": "execute_result",
          "data": {
            "text/plain": [
              "5"
            ]
          },
          "metadata": {},
          "execution_count": 25
        }
      ]
    },
    {
      "cell_type": "code",
      "source": [
        "# To convert the datatype using Python astype\n",
        "churn['age'] = pd.Categorical(churn['age'].astype(int))"
      ],
      "metadata": {
        "id": "YS-eX-KDT_Er"
      },
      "execution_count": null,
      "outputs": []
    },
    {
      "cell_type": "code",
      "source": [
        "churn.dtypes"
      ],
      "metadata": {
        "colab": {
          "base_uri": "https://localhost:8080/"
        },
        "id": "L1w4XX8EZWF0",
        "outputId": "9f0f8126-5a2c-4af2-f300-744d87ec64d7"
      },
      "execution_count": null,
      "outputs": [
        {
          "output_type": "execute_result",
          "data": {
            "text/plain": [
              "phoneno         int64\n",
              "age          category\n",
              "gender         object\n",
              "zipcode         int64\n",
              "calls         float64\n",
              "sms             int64\n",
              "mms             int64\n",
              "charges         int64\n",
              "coverage        int64\n",
              "complaint    category\n",
              "sim            object\n",
              "phone          object\n",
              "prepost        object\n",
              "churn           int64\n",
              "dtype: object"
            ]
          },
          "metadata": {},
          "execution_count": 27
        }
      ]
    },
    {
      "cell_type": "code",
      "source": [
        "#To find value counts ( This is similar to the table function in R)\n",
        "churn['churn'].value_counts(normalize=True)*100"
      ],
      "metadata": {
        "colab": {
          "base_uri": "https://localhost:8080/"
        },
        "id": "Y5c8jz_JYzeY",
        "outputId": "0a69b668-40f5-44eb-928c-c83279cbd430"
      },
      "execution_count": null,
      "outputs": [
        {
          "output_type": "execute_result",
          "data": {
            "text/plain": [
              "0    90.40849\n",
              "1     9.59151\n",
              "Name: churn, dtype: float64"
            ]
          },
          "metadata": {},
          "execution_count": 28
        }
      ]
    },
    {
      "cell_type": "code",
      "source": [
        "# To convert the datatype using Python astype\n",
        "churn['churn']=churn['churn'].astype('category')"
      ],
      "metadata": {
        "id": "OVbQ8OTvZP2s"
      },
      "execution_count": null,
      "outputs": []
    },
    {
      "cell_type": "code",
      "source": [
        "# To find the sum of the total minutes spent in calling\n",
        "churn['calls'].sum()"
      ],
      "metadata": {
        "colab": {
          "base_uri": "https://localhost:8080/"
        },
        "id": "k1XuSTtSxo0O",
        "outputId": "45e30ed2-9dce-4383-e232-3b7a2a78c686"
      },
      "execution_count": null,
      "outputs": [
        {
          "output_type": "execute_result",
          "data": {
            "text/plain": [
              "966349.0"
            ]
          },
          "metadata": {},
          "execution_count": 30
        }
      ]
    },
    {
      "cell_type": "code",
      "source": [
        "# To find the average sms done\n",
        "churn['sms'].mean()"
      ],
      "metadata": {
        "colab": {
          "base_uri": "https://localhost:8080/"
        },
        "id": "kWySe6zn2lXj",
        "outputId": "e851cc00-8d34-48b7-ef71-662b2af70009"
      },
      "execution_count": null,
      "outputs": [
        {
          "output_type": "execute_result",
          "data": {
            "text/plain": [
              "45.34120945134161"
            ]
          },
          "metadata": {},
          "execution_count": 31
        }
      ]
    },
    {
      "cell_type": "code",
      "source": [
        "# To find the maximum mms done\n",
        "churn['mms'].max()"
      ],
      "metadata": {
        "colab": {
          "base_uri": "https://localhost:8080/"
        },
        "id": "ELjnB7tG2nnX",
        "outputId": "7b6441b4-6994-45df-9b39-47f14103d996"
      },
      "execution_count": null,
      "outputs": [
        {
          "output_type": "execute_result",
          "data": {
            "text/plain": [
              "43"
            ]
          },
          "metadata": {},
          "execution_count": 32
        }
      ]
    },
    {
      "cell_type": "code",
      "execution_count": null,
      "metadata": {
        "id": "1CY2_9ZPye4G"
      },
      "outputs": [],
      "source": [
        "# To remove columns in a dataset Two ways , axis =1 denotes columns and axis=0 denotes rows\n",
        "churn = churn.drop(columns=\"phoneno\")\n"
      ]
    },
    {
      "cell_type": "code",
      "source": [
        "churn = churn.drop(\"zipcode\", axis=0)"
      ],
      "metadata": {
        "colab": {
          "base_uri": "https://localhost:8080/",
          "height": 336
        },
        "id": "N3shvEkvOQlr",
        "outputId": "6e6dfdd0-3dd4-45d0-a835-db5a4eefb0e3"
      },
      "execution_count": null,
      "outputs": [
        {
          "output_type": "error",
          "ename": "KeyError",
          "evalue": "ignored",
          "traceback": [
            "\u001b[0;31m---------------------------------------------------------------------------\u001b[0m",
            "\u001b[0;31mKeyError\u001b[0m                                  Traceback (most recent call last)",
            "\u001b[0;32m<ipython-input-34-d051920f7d8a>\u001b[0m in \u001b[0;36m<cell line: 1>\u001b[0;34m()\u001b[0m\n\u001b[0;32m----> 1\u001b[0;31m \u001b[0mchurn\u001b[0m \u001b[0;34m=\u001b[0m \u001b[0mchurn\u001b[0m\u001b[0;34m.\u001b[0m\u001b[0mdrop\u001b[0m\u001b[0;34m(\u001b[0m\u001b[0;34m\"zipcode\"\u001b[0m\u001b[0;34m,\u001b[0m \u001b[0maxis\u001b[0m\u001b[0;34m=\u001b[0m\u001b[0;36m0\u001b[0m\u001b[0;34m)\u001b[0m\u001b[0;34m\u001b[0m\u001b[0;34m\u001b[0m\u001b[0m\n\u001b[0m",
            "\u001b[0;32m/usr/local/lib/python3.9/dist-packages/pandas/util/_decorators.py\u001b[0m in \u001b[0;36mwrapper\u001b[0;34m(*args, **kwargs)\u001b[0m\n\u001b[1;32m    309\u001b[0m                     \u001b[0mstacklevel\u001b[0m\u001b[0;34m=\u001b[0m\u001b[0mstacklevel\u001b[0m\u001b[0;34m,\u001b[0m\u001b[0;34m\u001b[0m\u001b[0;34m\u001b[0m\u001b[0m\n\u001b[1;32m    310\u001b[0m                 )\n\u001b[0;32m--> 311\u001b[0;31m             \u001b[0;32mreturn\u001b[0m \u001b[0mfunc\u001b[0m\u001b[0;34m(\u001b[0m\u001b[0;34m*\u001b[0m\u001b[0margs\u001b[0m\u001b[0;34m,\u001b[0m \u001b[0;34m**\u001b[0m\u001b[0mkwargs\u001b[0m\u001b[0;34m)\u001b[0m\u001b[0;34m\u001b[0m\u001b[0;34m\u001b[0m\u001b[0m\n\u001b[0m\u001b[1;32m    312\u001b[0m \u001b[0;34m\u001b[0m\u001b[0m\n\u001b[1;32m    313\u001b[0m         \u001b[0;32mreturn\u001b[0m \u001b[0mwrapper\u001b[0m\u001b[0;34m\u001b[0m\u001b[0;34m\u001b[0m\u001b[0m\n",
            "\u001b[0;32m/usr/local/lib/python3.9/dist-packages/pandas/core/frame.py\u001b[0m in \u001b[0;36mdrop\u001b[0;34m(self, labels, axis, index, columns, level, inplace, errors)\u001b[0m\n\u001b[1;32m   4955\u001b[0m                 \u001b[0mweight\u001b[0m  \u001b[0;36m1.0\u001b[0m     \u001b[0;36m0.8\u001b[0m\u001b[0;34m\u001b[0m\u001b[0;34m\u001b[0m\u001b[0m\n\u001b[1;32m   4956\u001b[0m         \"\"\"\n\u001b[0;32m-> 4957\u001b[0;31m         return super().drop(\n\u001b[0m\u001b[1;32m   4958\u001b[0m             \u001b[0mlabels\u001b[0m\u001b[0;34m=\u001b[0m\u001b[0mlabels\u001b[0m\u001b[0;34m,\u001b[0m\u001b[0;34m\u001b[0m\u001b[0;34m\u001b[0m\u001b[0m\n\u001b[1;32m   4959\u001b[0m             \u001b[0maxis\u001b[0m\u001b[0;34m=\u001b[0m\u001b[0maxis\u001b[0m\u001b[0;34m,\u001b[0m\u001b[0;34m\u001b[0m\u001b[0;34m\u001b[0m\u001b[0m\n",
            "\u001b[0;32m/usr/local/lib/python3.9/dist-packages/pandas/core/generic.py\u001b[0m in \u001b[0;36mdrop\u001b[0;34m(self, labels, axis, index, columns, level, inplace, errors)\u001b[0m\n\u001b[1;32m   4265\u001b[0m         \u001b[0;32mfor\u001b[0m \u001b[0maxis\u001b[0m\u001b[0;34m,\u001b[0m \u001b[0mlabels\u001b[0m \u001b[0;32min\u001b[0m \u001b[0maxes\u001b[0m\u001b[0;34m.\u001b[0m\u001b[0mitems\u001b[0m\u001b[0;34m(\u001b[0m\u001b[0;34m)\u001b[0m\u001b[0;34m:\u001b[0m\u001b[0;34m\u001b[0m\u001b[0;34m\u001b[0m\u001b[0m\n\u001b[1;32m   4266\u001b[0m             \u001b[0;32mif\u001b[0m \u001b[0mlabels\u001b[0m \u001b[0;32mis\u001b[0m \u001b[0;32mnot\u001b[0m \u001b[0;32mNone\u001b[0m\u001b[0;34m:\u001b[0m\u001b[0;34m\u001b[0m\u001b[0;34m\u001b[0m\u001b[0m\n\u001b[0;32m-> 4267\u001b[0;31m                 \u001b[0mobj\u001b[0m \u001b[0;34m=\u001b[0m \u001b[0mobj\u001b[0m\u001b[0;34m.\u001b[0m\u001b[0m_drop_axis\u001b[0m\u001b[0;34m(\u001b[0m\u001b[0mlabels\u001b[0m\u001b[0;34m,\u001b[0m \u001b[0maxis\u001b[0m\u001b[0;34m,\u001b[0m \u001b[0mlevel\u001b[0m\u001b[0;34m=\u001b[0m\u001b[0mlevel\u001b[0m\u001b[0;34m,\u001b[0m \u001b[0merrors\u001b[0m\u001b[0;34m=\u001b[0m\u001b[0merrors\u001b[0m\u001b[0;34m)\u001b[0m\u001b[0;34m\u001b[0m\u001b[0;34m\u001b[0m\u001b[0m\n\u001b[0m\u001b[1;32m   4268\u001b[0m \u001b[0;34m\u001b[0m\u001b[0m\n\u001b[1;32m   4269\u001b[0m         \u001b[0;32mif\u001b[0m \u001b[0minplace\u001b[0m\u001b[0;34m:\u001b[0m\u001b[0;34m\u001b[0m\u001b[0;34m\u001b[0m\u001b[0m\n",
            "\u001b[0;32m/usr/local/lib/python3.9/dist-packages/pandas/core/generic.py\u001b[0m in \u001b[0;36m_drop_axis\u001b[0;34m(self, labels, axis, level, errors, consolidate, only_slice)\u001b[0m\n\u001b[1;32m   4309\u001b[0m                 \u001b[0mnew_axis\u001b[0m \u001b[0;34m=\u001b[0m \u001b[0maxis\u001b[0m\u001b[0;34m.\u001b[0m\u001b[0mdrop\u001b[0m\u001b[0;34m(\u001b[0m\u001b[0mlabels\u001b[0m\u001b[0;34m,\u001b[0m \u001b[0mlevel\u001b[0m\u001b[0;34m=\u001b[0m\u001b[0mlevel\u001b[0m\u001b[0;34m,\u001b[0m \u001b[0merrors\u001b[0m\u001b[0;34m=\u001b[0m\u001b[0merrors\u001b[0m\u001b[0;34m)\u001b[0m\u001b[0;34m\u001b[0m\u001b[0;34m\u001b[0m\u001b[0m\n\u001b[1;32m   4310\u001b[0m             \u001b[0;32melse\u001b[0m\u001b[0;34m:\u001b[0m\u001b[0;34m\u001b[0m\u001b[0;34m\u001b[0m\u001b[0m\n\u001b[0;32m-> 4311\u001b[0;31m                 \u001b[0mnew_axis\u001b[0m \u001b[0;34m=\u001b[0m \u001b[0maxis\u001b[0m\u001b[0;34m.\u001b[0m\u001b[0mdrop\u001b[0m\u001b[0;34m(\u001b[0m\u001b[0mlabels\u001b[0m\u001b[0;34m,\u001b[0m \u001b[0merrors\u001b[0m\u001b[0;34m=\u001b[0m\u001b[0merrors\u001b[0m\u001b[0;34m)\u001b[0m\u001b[0;34m\u001b[0m\u001b[0;34m\u001b[0m\u001b[0m\n\u001b[0m\u001b[1;32m   4312\u001b[0m             \u001b[0mindexer\u001b[0m \u001b[0;34m=\u001b[0m \u001b[0maxis\u001b[0m\u001b[0;34m.\u001b[0m\u001b[0mget_indexer\u001b[0m\u001b[0;34m(\u001b[0m\u001b[0mnew_axis\u001b[0m\u001b[0;34m)\u001b[0m\u001b[0;34m\u001b[0m\u001b[0;34m\u001b[0m\u001b[0m\n\u001b[1;32m   4313\u001b[0m \u001b[0;34m\u001b[0m\u001b[0m\n",
            "\u001b[0;32m/usr/local/lib/python3.9/dist-packages/pandas/core/indexes/base.py\u001b[0m in \u001b[0;36mdrop\u001b[0;34m(self, labels, errors)\u001b[0m\n\u001b[1;32m   6659\u001b[0m         \u001b[0;32mif\u001b[0m \u001b[0mmask\u001b[0m\u001b[0;34m.\u001b[0m\u001b[0many\u001b[0m\u001b[0;34m(\u001b[0m\u001b[0;34m)\u001b[0m\u001b[0;34m:\u001b[0m\u001b[0;34m\u001b[0m\u001b[0;34m\u001b[0m\u001b[0m\n\u001b[1;32m   6660\u001b[0m             \u001b[0;32mif\u001b[0m \u001b[0merrors\u001b[0m \u001b[0;34m!=\u001b[0m \u001b[0;34m\"ignore\"\u001b[0m\u001b[0;34m:\u001b[0m\u001b[0;34m\u001b[0m\u001b[0;34m\u001b[0m\u001b[0m\n\u001b[0;32m-> 6661\u001b[0;31m                 \u001b[0;32mraise\u001b[0m \u001b[0mKeyError\u001b[0m\u001b[0;34m(\u001b[0m\u001b[0;34mf\"{list(labels[mask])} not found in axis\"\u001b[0m\u001b[0;34m)\u001b[0m\u001b[0;34m\u001b[0m\u001b[0;34m\u001b[0m\u001b[0m\n\u001b[0m\u001b[1;32m   6662\u001b[0m             \u001b[0mindexer\u001b[0m \u001b[0;34m=\u001b[0m \u001b[0mindexer\u001b[0m\u001b[0;34m[\u001b[0m\u001b[0;34m~\u001b[0m\u001b[0mmask\u001b[0m\u001b[0;34m]\u001b[0m\u001b[0;34m\u001b[0m\u001b[0;34m\u001b[0m\u001b[0m\n\u001b[1;32m   6663\u001b[0m         \u001b[0;32mreturn\u001b[0m \u001b[0mself\u001b[0m\u001b[0;34m.\u001b[0m\u001b[0mdelete\u001b[0m\u001b[0;34m(\u001b[0m\u001b[0mindexer\u001b[0m\u001b[0;34m)\u001b[0m\u001b[0;34m\u001b[0m\u001b[0;34m\u001b[0m\u001b[0m\n",
            "\u001b[0;31mKeyError\u001b[0m: \"['zipcode'] not found in axis\""
          ]
        }
      ]
    },
    {
      "cell_type": "code",
      "source": [
        "churn = churn.drop(\"zipcode\", axis=1)"
      ],
      "metadata": {
        "id": "lHMIEqeyORXK"
      },
      "execution_count": null,
      "outputs": []
    },
    {
      "cell_type": "code",
      "execution_count": null,
      "metadata": {
        "id": "SYhlWuTiye4G",
        "outputId": "9e3bab71-fa8a-413b-c315-33353b77ed64",
        "colab": {
          "base_uri": "https://localhost:8080/"
        }
      },
      "outputs": [
        {
          "output_type": "stream",
          "name": "stdout",
          "text": [
            "<class 'pandas.core.frame.DataFrame'>\n",
            "Int64Index: 4994 entries, 0 to 4999\n",
            "Data columns (total 12 columns):\n",
            " #   Column     Non-Null Count  Dtype   \n",
            "---  ------     --------------  -----   \n",
            " 0   age        4994 non-null   category\n",
            " 1   gender     4994 non-null   object  \n",
            " 2   calls      4989 non-null   float64 \n",
            " 3   sms        4994 non-null   int64   \n",
            " 4   mms        4994 non-null   int64   \n",
            " 5   charges    4994 non-null   int64   \n",
            " 6   coverage   4994 non-null   int64   \n",
            " 7   complaint  4994 non-null   category\n",
            " 8   sim        4994 non-null   object  \n",
            " 9   phone      4994 non-null   object  \n",
            " 10  prepost    4994 non-null   object  \n",
            " 11  churn      4994 non-null   category\n",
            "dtypes: category(3), float64(1), int64(4), object(4)\n",
            "memory usage: 534.3+ KB\n"
          ]
        }
      ],
      "source": [
        "# To recheck using the info function if the columns have been removed\n",
        "churn.info()"
      ]
    },
    {
      "cell_type": "markdown",
      "source": [
        "## Feature Construction"
      ],
      "metadata": {
        "id": "EZPogGVklY7R"
      }
    },
    {
      "cell_type": "code",
      "execution_count": null,
      "metadata": {
        "id": "lKddlnrgye4Q",
        "outputId": "e71b715e-8254-45eb-aeca-1267a0112841",
        "colab": {
          "base_uri": "https://localhost:8080/"
        }
      },
      "outputs": [
        {
          "output_type": "execute_result",
          "data": {
            "text/plain": [
              "age          0\n",
              "gender       0\n",
              "calls        5\n",
              "sms          0\n",
              "mms          0\n",
              "charges      0\n",
              "coverage     0\n",
              "complaint    0\n",
              "sim          0\n",
              "phone        0\n",
              "prepost      0\n",
              "churn        0\n",
              "dtype: int64"
            ]
          },
          "metadata": {},
          "execution_count": 38
        }
      ],
      "source": [
        "# NA value treatment\n",
        "# To check the sum of null values in each column\n",
        "churn.isnull().sum()"
      ]
    },
    {
      "cell_type": "code",
      "execution_count": null,
      "metadata": {
        "id": "EGDBkTu1ye4Q",
        "outputId": "d1141e89-c11e-4c1c-87eb-6e2ff477534e",
        "colab": {
          "base_uri": "https://localhost:8080/"
        }
      },
      "outputs": [
        {
          "output_type": "execute_result",
          "data": {
            "text/plain": [
              "150.0"
            ]
          },
          "metadata": {},
          "execution_count": 39
        }
      ],
      "source": [
        "# To calculate median\n",
        "churn['calls'].median()"
      ]
    },
    {
      "cell_type": "code",
      "source": [
        "# To calculate mean\n",
        "churn['calls'].mean()"
      ],
      "metadata": {
        "colab": {
          "base_uri": "https://localhost:8080/"
        },
        "id": "1dYUUWtBPAf9",
        "outputId": "073f10e8-bef9-40e0-fa5c-a11e628a2785"
      },
      "execution_count": null,
      "outputs": [
        {
          "output_type": "execute_result",
          "data": {
            "text/plain": [
              "193.69593104830628"
            ]
          },
          "metadata": {},
          "execution_count": 40
        }
      ]
    },
    {
      "cell_type": "code",
      "source": [
        "# To calculate mode\n",
        "churn['calls'].mode()"
      ],
      "metadata": {
        "colab": {
          "base_uri": "https://localhost:8080/"
        },
        "id": "TpO5HwwBPNW8",
        "outputId": "39c363c6-de00-4c1b-dc8d-412c9bbf930a"
      },
      "execution_count": null,
      "outputs": [
        {
          "output_type": "execute_result",
          "data": {
            "text/plain": [
              "0    30.0\n",
              "Name: calls, dtype: float64"
            ]
          },
          "metadata": {},
          "execution_count": 41
        }
      ]
    },
    {
      "cell_type": "code",
      "source": [
        "# To calculate mean\n",
        "calls_mean = round(churn['calls'].mean())"
      ],
      "metadata": {
        "id": "3d7ZGtDOPCe5"
      },
      "execution_count": null,
      "outputs": []
    },
    {
      "cell_type": "code",
      "execution_count": null,
      "metadata": {
        "id": "hwWLrCpaye4R"
      },
      "outputs": [],
      "source": [
        "#Replace the na values with the mean of the continous variable\n",
        "churn['calls'].fillna(calls_mean, inplace=True)"
      ]
    },
    {
      "cell_type": "code",
      "execution_count": null,
      "metadata": {
        "id": "TkLhxNwrye4S",
        "outputId": "1c827b5e-a241-4e54-8acc-9a1b5096e53d",
        "colab": {
          "base_uri": "https://localhost:8080/"
        }
      },
      "outputs": [
        {
          "output_type": "execute_result",
          "data": {
            "text/plain": [
              "0    1\n",
              "Name: age, dtype: category\n",
              "Categories (3, int64): [1, 2, 3]"
            ]
          },
          "metadata": {},
          "execution_count": 44
        }
      ],
      "source": [
        "# Replace the na values with the mode of the categorical variable\n",
        "#Calculate and print the mode\n",
        "mode = churn['age'].mode()\n",
        "mode"
      ]
    },
    {
      "cell_type": "code",
      "execution_count": null,
      "metadata": {
        "id": "2wa5EeSBye4S"
      },
      "outputs": [],
      "source": [
        "# Replace the na values with the mode 1\n",
        "# churn['age'].fillna(1.0, inplace=True)"
      ]
    },
    {
      "cell_type": "code",
      "execution_count": null,
      "metadata": {
        "id": "pViiuusnye4R",
        "outputId": "6cb1e2eb-3a50-4395-d2be-8f0889658431",
        "colab": {
          "base_uri": "https://localhost:8080/"
        }
      },
      "outputs": [
        {
          "output_type": "execute_result",
          "data": {
            "text/plain": [
              "age          0\n",
              "gender       0\n",
              "calls        0\n",
              "sms          0\n",
              "mms          0\n",
              "charges      0\n",
              "coverage     0\n",
              "complaint    0\n",
              "sim          0\n",
              "phone        0\n",
              "prepost      0\n",
              "churn        0\n",
              "dtype: int64"
            ]
          },
          "metadata": {},
          "execution_count": 46
        }
      ],
      "source": [
        "# To recheck if the na values have been removed\n",
        "churn.isnull().sum()"
      ]
    },
    {
      "cell_type": "code",
      "execution_count": null,
      "metadata": {
        "id": "uruYsP_nye4S",
        "outputId": "fb429f91-2362-4277-ff2d-d66608337662",
        "colab": {
          "base_uri": "https://localhost:8080/"
        }
      },
      "outputs": [
        {
          "output_type": "stream",
          "name": "stdout",
          "text": [
            "<class 'pandas.core.frame.DataFrame'>\n",
            "Int64Index: 4994 entries, 0 to 4999\n",
            "Data columns (total 12 columns):\n",
            " #   Column     Non-Null Count  Dtype   \n",
            "---  ------     --------------  -----   \n",
            " 0   age        4994 non-null   category\n",
            " 1   gender     4994 non-null   object  \n",
            " 2   calls      4994 non-null   float64 \n",
            " 3   sms        4994 non-null   int64   \n",
            " 4   mms        4994 non-null   int64   \n",
            " 5   charges    4994 non-null   int64   \n",
            " 6   coverage   4994 non-null   int64   \n",
            " 7   complaint  4994 non-null   category\n",
            " 8   sim        4994 non-null   object  \n",
            " 9   phone      4994 non-null   object  \n",
            " 10  prepost    4994 non-null   object  \n",
            " 11  churn      4994 non-null   category\n",
            "dtypes: category(3), float64(1), int64(4), object(4)\n",
            "memory usage: 534.3+ KB\n"
          ]
        }
      ],
      "source": [
        "churn.info()"
      ]
    },
    {
      "cell_type": "code",
      "source": [
        "churn['calls'] = churn['calls'].astype('int')\n",
        "churn.dtypes"
      ],
      "metadata": {
        "colab": {
          "base_uri": "https://localhost:8080/"
        },
        "id": "t_7FdJzPaF4h",
        "outputId": "9cf01442-033e-42e9-8f3c-c9f37bd17c16"
      },
      "execution_count": null,
      "outputs": [
        {
          "output_type": "execute_result",
          "data": {
            "text/plain": [
              "age          category\n",
              "gender         object\n",
              "calls           int64\n",
              "sms             int64\n",
              "mms             int64\n",
              "charges         int64\n",
              "coverage        int64\n",
              "complaint    category\n",
              "sim            object\n",
              "phone          object\n",
              "prepost        object\n",
              "churn        category\n",
              "dtype: object"
            ]
          },
          "metadata": {},
          "execution_count": 48
        }
      ]
    },
    {
      "cell_type": "code",
      "source": [
        "churn['ACC'] = churn.charges/churn.calls"
      ],
      "metadata": {
        "id": "EZVtmddvldXx"
      },
      "execution_count": null,
      "outputs": []
    },
    {
      "cell_type": "code",
      "source": [
        "numeric_cols = churn.select_dtypes(include=np.number).columns.tolist()\n",
        "print(numeric_cols)"
      ],
      "metadata": {
        "id": "OjXSPB4bn5Pn",
        "colab": {
          "base_uri": "https://localhost:8080/"
        },
        "outputId": "77b377be-b759-47a4-d031-81903a0ce578"
      },
      "execution_count": null,
      "outputs": [
        {
          "output_type": "stream",
          "name": "stdout",
          "text": [
            "['calls', 'sms', 'mms', 'charges', 'coverage', 'ACC']\n"
          ]
        }
      ]
    },
    {
      "cell_type": "code",
      "source": [
        "categoric_cols = churn.select_dtypes(exclude=np.number).columns.tolist()\n",
        "print(categoric_cols)"
      ],
      "metadata": {
        "id": "9w4ha6YpoLlB",
        "colab": {
          "base_uri": "https://localhost:8080/"
        },
        "outputId": "14f36976-887f-4804-fa6b-11a634c5610c"
      },
      "execution_count": null,
      "outputs": [
        {
          "output_type": "stream",
          "name": "stdout",
          "text": [
            "['age', 'gender', 'complaint', 'sim', 'phone', 'prepost', 'churn']\n"
          ]
        }
      ]
    },
    {
      "cell_type": "markdown",
      "metadata": {
        "id": "0jqFwTu0ye4I"
      },
      "source": [
        "#To plot Histograms of continous variables"
      ]
    },
    {
      "cell_type": "code",
      "execution_count": null,
      "metadata": {
        "id": "btzxFIfpye4H"
      },
      "outputs": [],
      "source": [
        "# To import the necessary packages for data visualization\n",
        "#The packages used in Python for data visualization are matplotlib and seaborn. \n",
        "#% matplotlib inline  command ensures that the graphs are displayed immediately after the codes \n",
        "#And once this is saved in the notebook, can be recovered anytime with the plots.\n",
        "import matplotlib.pyplot as plt\n",
        "import seaborn as sn\n",
        "%matplotlib inline"
      ]
    },
    {
      "cell_type": "code",
      "execution_count": null,
      "metadata": {
        "id": "CDMIG_xtye4I",
        "outputId": "79c8dff0-1a12-439d-c336-a9d5c0f69f89",
        "colab": {
          "base_uri": "https://localhost:8080/",
          "height": 430
        }
      },
      "outputs": [
        {
          "output_type": "display_data",
          "data": {
            "text/plain": [
              "<Figure size 640x480 with 1 Axes>"
            ],
            "image/png": "[encoded data removed]"
          },
          "metadata": {}
        }
      ],
      "source": [
        "plt.hist(churn['calls']);"
      ]
    },
    {
      "cell_type": "code",
      "execution_count": null,
      "metadata": {
        "id": "eyZ4z8dlye4J",
        "outputId": "a685e313-5b0d-4499-bf2d-e0f96a50b9f1",
        "colab": {
          "base_uri": "https://localhost:8080/",
          "height": 430
        }
      },
      "outputs": [
        {
          "output_type": "display_data",
          "data": {
            "text/plain": [
              "<Figure size 640x480 with 1 Axes>"
            ],
            "image/png": "[encoded data removed]"
          },
          "metadata": {}
        }
      ],
      "source": [
        "plt.hist(churn['calls'],bins=20);"
      ]
    },
    {
      "cell_type": "code",
      "source": [
        "churn['calls'].plot(kind='hist')"
      ],
      "metadata": {
        "colab": {
          "base_uri": "https://localhost:8080/",
          "height": 448
        },
        "id": "boYy3dsTTTp-",
        "outputId": "ad3c268d-9c06-4af7-e8d3-e8340b896674"
      },
      "execution_count": null,
      "outputs": [
        {
          "output_type": "execute_result",
          "data": {
            "text/plain": [
              "<Axes: ylabel='Frequency'>"
            ]
          },
          "metadata": {},
          "execution_count": 55
        },
        {
          "output_type": "display_data",
          "data": {
            "text/plain": [
              "<Figure size 640x480 with 1 Axes>"
            ],
            "image/png": "[encoded data removed]"
          },
          "metadata": {}
        }
      ]
    },
    {
      "cell_type": "code",
      "source": [
        "churn['calls'].plot(kind='hist',bins=20)"
      ],
      "metadata": {
        "colab": {
          "base_uri": "https://localhost:8080/",
          "height": 448
        },
        "id": "Cf05lwjeTqOA",
        "outputId": "cc52455e-5dec-4a97-d32f-16335cbe1a15"
      },
      "execution_count": null,
      "outputs": [
        {
          "output_type": "execute_result",
          "data": {
            "text/plain": [
              "<Axes: ylabel='Frequency'>"
            ]
          },
          "metadata": {},
          "execution_count": 56
        },
        {
          "output_type": "display_data",
          "data": {
            "text/plain": [
              "<Figure size 640x480 with 1 Axes>"
            ],
            "image/png": "[encoded data removed]"
          },
          "metadata": {}
        }
      ]
    },
    {
      "cell_type": "code",
      "execution_count": null,
      "metadata": {
        "id": "Zh7BFTgoye4J",
        "outputId": "d2159f8d-6b97-4b41-ec7f-15efd18e16db",
        "colab": {
          "base_uri": "https://localhost:8080/",
          "height": 430
        }
      },
      "outputs": [
        {
          "output_type": "display_data",
          "data": {
            "text/plain": [
              "<Figure size 640x480 with 1 Axes>"
            ],
            "image/png": "[encoded data removed]"
          },
          "metadata": {}
        }
      ],
      "source": [
        "plt.hist(churn['sms']);"
      ]
    },
    {
      "cell_type": "code",
      "execution_count": null,
      "metadata": {
        "id": "bdHZnQ-eye4J",
        "outputId": "e1c23059-d4bc-49a8-ad0e-83b335dd099c",
        "colab": {
          "base_uri": "https://localhost:8080/",
          "height": 430
        }
      },
      "outputs": [
        {
          "output_type": "display_data",
          "data": {
            "text/plain": [
              "<Figure size 640x480 with 1 Axes>"
            ],
            "image/png": "[encoded data removed]"
          },
          "metadata": {}
        }
      ],
      "source": [
        "plt.hist(churn['mms']);"
      ]
    },
    {
      "cell_type": "code",
      "execution_count": null,
      "metadata": {
        "id": "HY__2tURye4J",
        "outputId": "c04ffdcd-cc6b-40d8-c811-859538117e3c",
        "colab": {
          "base_uri": "https://localhost:8080/",
          "height": 433
        }
      },
      "outputs": [
        {
          "output_type": "display_data",
          "data": {
            "text/plain": [
              "<Figure size 640x480 with 1 Axes>"
            ],
            "image/png": "[encoded data removed]"
          },
          "metadata": {}
        }
      ],
      "source": [
        "plt.hist(churn['charges']);"
      ]
    },
    {
      "cell_type": "code",
      "execution_count": null,
      "metadata": {
        "id": "qDmLYlYzye4K",
        "outputId": "f8e43ff0-69ad-46c0-941e-eb6bf980f8c0",
        "colab": {
          "base_uri": "https://localhost:8080/",
          "height": 430
        }
      },
      "outputs": [
        {
          "output_type": "display_data",
          "data": {
            "text/plain": [
              "<Figure size 640x480 with 1 Axes>"
            ],
            "image/png": "[encoded data removed]"
          },
          "metadata": {}
        }
      ],
      "source": [
        "plt.hist(churn['coverage'],bins=7);"
      ]
    },
    {
      "cell_type": "code",
      "source": [
        "churn['coverage'].value_counts(normalize=False)*100"
      ],
      "metadata": {
        "colab": {
          "base_uri": "https://localhost:8080/"
        },
        "id": "vQa91GzRj_cl",
        "outputId": "eb2be889-06f8-42e9-e7b7-265167ade95b"
      },
      "execution_count": null,
      "outputs": [
        {
          "output_type": "execute_result",
          "data": {
            "text/plain": [
              "0    345700\n",
              "2     75700\n",
              "3     29700\n",
              "1     28200\n",
              "4     12800\n",
              "5      4800\n",
              "6      2100\n",
              "7       400\n",
              "Name: coverage, dtype: int64"
            ]
          },
          "metadata": {},
          "execution_count": 61
        }
      ]
    },
    {
      "cell_type": "markdown",
      "metadata": {
        "id": "y0l6r-1Uye4K"
      },
      "source": [
        "#To plot countplots of categorical variables"
      ]
    },
    {
      "cell_type": "markdown",
      "source": [],
      "metadata": {
        "id": "0Ieb2MetT4s1"
      }
    },
    {
      "cell_type": "code",
      "source": [
        "#churn['age'].plot(kind='hist')"
      ],
      "metadata": {
        "id": "h3tLGXznaFhJ"
      },
      "execution_count": null,
      "outputs": []
    },
    {
      "cell_type": "code",
      "execution_count": null,
      "metadata": {
        "id": "8YVlH1hoye4K",
        "outputId": "1d712c33-6914-4f02-9719-dd7a5a385aeb",
        "colab": {
          "base_uri": "https://localhost:8080/",
          "height": 449
        }
      },
      "outputs": [
        {
          "output_type": "display_data",
          "data": {
            "text/plain": [
              "<Figure size 640x480 with 1 Axes>"
            ],
            "image/png": "[encoded data removed]"
          },
          "metadata": {}
        }
      ],
      "source": [
        "sn.countplot(x='age',data = churn);"
      ]
    },
    {
      "cell_type": "code",
      "execution_count": null,
      "metadata": {
        "id": "9qelM5Tnye4K",
        "outputId": "447099b9-35d1-419e-a831-ad6a1cdccb6f",
        "colab": {
          "base_uri": "https://localhost:8080/",
          "height": 449
        }
      },
      "outputs": [
        {
          "output_type": "display_data",
          "data": {
            "text/plain": [
              "<Figure size 640x480 with 1 Axes>"
            ],
            "image/png": "[encoded data removed]"
          },
          "metadata": {}
        }
      ],
      "source": [
        "sn.countplot(x='gender',data = churn);"
      ]
    },
    {
      "cell_type": "code",
      "execution_count": null,
      "metadata": {
        "id": "PEZuyflkye4L",
        "outputId": "c8e97892-d805-4084-bf31-f23ba5758381",
        "colab": {
          "base_uri": "https://localhost:8080/",
          "height": 449
        }
      },
      "outputs": [
        {
          "output_type": "display_data",
          "data": {
            "text/plain": [
              "<Figure size 640x480 with 1 Axes>"
            ],
            "image/png": "[encoded data removed]"
          },
          "metadata": {}
        }
      ],
      "source": [
        "sn.countplot(x='complaint',data = churn);"
      ]
    },
    {
      "cell_type": "code",
      "execution_count": null,
      "metadata": {
        "id": "NgOah7zKye4L",
        "outputId": "8fb371fc-a4a2-4244-e483-938c0a762ec0",
        "colab": {
          "base_uri": "https://localhost:8080/",
          "height": 449
        }
      },
      "outputs": [
        {
          "output_type": "display_data",
          "data": {
            "text/plain": [
              "<Figure size 640x480 with 1 Axes>"
            ],
            "image/png": "[encoded data removed]"
          },
          "metadata": {}
        }
      ],
      "source": [
        "sn.countplot(x='sim',data = churn);"
      ]
    },
    {
      "cell_type": "code",
      "execution_count": null,
      "metadata": {
        "id": "XMFh8lzLye4L",
        "outputId": "52c074de-82bc-429e-d6c9-7db42cc3842e",
        "colab": {
          "base_uri": "https://localhost:8080/",
          "height": 449
        }
      },
      "outputs": [
        {
          "output_type": "display_data",
          "data": {
            "text/plain": [
              "<Figure size 640x480 with 1 Axes>"
            ],
            "image/png": "[encoded data removed]"
          },
          "metadata": {}
        }
      ],
      "source": [
        "sn.countplot(x='phone',data = churn);"
      ]
    },
    {
      "cell_type": "code",
      "execution_count": null,
      "metadata": {
        "id": "5QtYW36eye4L",
        "outputId": "fb5233ec-d258-4608-e47a-085f3d364dbc",
        "colab": {
          "base_uri": "https://localhost:8080/",
          "height": 449
        }
      },
      "outputs": [
        {
          "output_type": "display_data",
          "data": {
            "text/plain": [
              "<Figure size 640x480 with 1 Axes>"
            ],
            "image/png": "[encoded data removed]"
          },
          "metadata": {}
        }
      ],
      "source": [
        "sn.countplot(x='prepost',data = churn);"
      ]
    },
    {
      "cell_type": "code",
      "execution_count": null,
      "metadata": {
        "id": "M4cMCREMye4M",
        "outputId": "e2499a19-3702-4d03-a2af-6bff45ecc8d1",
        "colab": {
          "base_uri": "https://localhost:8080/",
          "height": 449
        }
      },
      "outputs": [
        {
          "output_type": "display_data",
          "data": {
            "text/plain": [
              "<Figure size 640x480 with 1 Axes>"
            ],
            "image/png": "[encoded data removed]"
          },
          "metadata": {}
        }
      ],
      "source": [
        "sn.countplot(x='churn',data = churn);"
      ]
    },
    {
      "cell_type": "markdown",
      "metadata": {
        "id": "Xffju2Suye4M"
      },
      "source": [
        "#Boxplot of continous variables"
      ]
    },
    {
      "cell_type": "code",
      "source": [
        "churn['calls'].plot(kind='box')"
      ],
      "metadata": {
        "id": "e9GMaBlqT755",
        "colab": {
          "base_uri": "https://localhost:8080/",
          "height": 448
        },
        "outputId": "2ee708f8-a811-4b5a-ffdc-4f3827f10d0d"
      },
      "execution_count": null,
      "outputs": [
        {
          "output_type": "execute_result",
          "data": {
            "text/plain": [
              "<Axes: >"
            ]
          },
          "metadata": {},
          "execution_count": 70
        },
        {
          "output_type": "display_data",
          "data": {
            "text/plain": [
              "<Figure size 640x480 with 1 Axes>"
            ],
            "image/png": "[encoded data removed]"
          },
          "metadata": {}
        }
      ]
    },
    {
      "cell_type": "code",
      "source": [
        "churn['calls'].plot(kind='box', vert=False)"
      ],
      "metadata": {
        "id": "NSdePeuiXeo1",
        "colab": {
          "base_uri": "https://localhost:8080/",
          "height": 448
        },
        "outputId": "a0e0792b-68d8-40d9-b66d-c9d989e8fbb8"
      },
      "execution_count": null,
      "outputs": [
        {
          "output_type": "execute_result",
          "data": {
            "text/plain": [
              "<Axes: >"
            ]
          },
          "metadata": {},
          "execution_count": 71
        },
        {
          "output_type": "display_data",
          "data": {
            "text/plain": [
              "<Figure size 640x480 with 1 Axes>"
            ],
            "image/png": "[encoded data removed]"
          },
          "metadata": {}
        }
      ]
    },
    {
      "cell_type": "code",
      "execution_count": null,
      "metadata": {
        "id": "Gsho7jgPye4M",
        "colab": {
          "base_uri": "https://localhost:8080/",
          "height": 430
        },
        "outputId": "a69971eb-fa15-43a4-b60a-db364d255676"
      },
      "outputs": [
        {
          "output_type": "display_data",
          "data": {
            "text/plain": [
              "<Figure size 640x480 with 1 Axes>"
            ],
            "image/png": "[encoded data removed]"
          },
          "metadata": {}
        }
      ],
      "source": [
        "sn.boxplot(churn['calls']);"
      ]
    },
    {
      "cell_type": "code",
      "source": [
        "sn.boxplot(x='calls', data=churn);"
      ],
      "metadata": {
        "id": "2owVEZVSVJTU",
        "colab": {
          "base_uri": "https://localhost:8080/",
          "height": 449
        },
        "outputId": "569e8214-6552-412d-ca85-35d45a41f12d"
      },
      "execution_count": null,
      "outputs": [
        {
          "output_type": "display_data",
          "data": {
            "text/plain": [
              "<Figure size 640x480 with 1 Axes>"
            ],
            "image/png": "[encoded data removed]"
          },
          "metadata": {}
        }
      ]
    },
    {
      "cell_type": "code",
      "source": [
        "sn.boxplot(y='calls',data=churn)"
      ],
      "metadata": {
        "id": "JNrqmxewczAJ",
        "colab": {
          "base_uri": "https://localhost:8080/",
          "height": 429
        },
        "outputId": "4ffcc21e-4b03-4225-ee89-1189f1861fe5"
      },
      "execution_count": null,
      "outputs": [
        {
          "output_type": "execute_result",
          "data": {
            "text/plain": [
              "<Axes: ylabel='calls'>"
            ]
          },
          "metadata": {},
          "execution_count": 74
        },
        {
          "output_type": "display_data",
          "data": {
            "text/plain": [
              "<Figure size 640x480 with 1 Axes>"
            ],
            "image/png": "[encoded data removed]"
          },
          "metadata": {}
        }
      ]
    },
    {
      "cell_type": "code",
      "execution_count": null,
      "metadata": {
        "id": "XIvOycLvye4M",
        "colab": {
          "base_uri": "https://localhost:8080/",
          "height": 449
        },
        "outputId": "7edf6bc3-50a2-4963-a672-b58dd0772443"
      },
      "outputs": [
        {
          "output_type": "display_data",
          "data": {
            "text/plain": [
              "<Figure size 640x480 with 1 Axes>"
            ],
            "image/png": "[encoded data removed]"
          },
          "metadata": {}
        }
      ],
      "source": [
        "sn.boxplot(x='sms', data = churn);"
      ]
    },
    {
      "cell_type": "code",
      "execution_count": null,
      "metadata": {
        "id": "k34rDyuDye4N",
        "colab": {
          "base_uri": "https://localhost:8080/",
          "height": 430
        },
        "outputId": "46da7c2c-6ab9-44a3-e1b5-617cfe7ce58d"
      },
      "outputs": [
        {
          "output_type": "display_data",
          "data": {
            "text/plain": [
              "<Figure size 640x480 with 1 Axes>"
            ],
            "image/png": "[encoded data removed]"
          },
          "metadata": {}
        }
      ],
      "source": [
        "sn.boxplot(churn['mms']);"
      ]
    },
    {
      "cell_type": "code",
      "execution_count": null,
      "metadata": {
        "id": "LSq4N_Olye4N",
        "colab": {
          "base_uri": "https://localhost:8080/",
          "height": 449
        },
        "outputId": "1ba2d3d9-5f2d-417c-a858-f8c811dc813b"
      },
      "outputs": [
        {
          "output_type": "display_data",
          "data": {
            "text/plain": [
              "<Figure size 640x480 with 1 Axes>"
            ],
            "image/png": "[encoded data removed]"
          },
          "metadata": {}
        }
      ],
      "source": [
        "sn.boxplot(x = 'charges', data=churn);"
      ]
    },
    {
      "cell_type": "code",
      "execution_count": null,
      "metadata": {
        "id": "emsH6g0sye4N",
        "colab": {
          "base_uri": "https://localhost:8080/",
          "height": 449
        },
        "outputId": "045e9d48-568d-42b2-b6be-b39aaf8507f7"
      },
      "outputs": [
        {
          "output_type": "display_data",
          "data": {
            "text/plain": [
              "<Figure size 640x480 with 1 Axes>"
            ],
            "image/png": "[encoded data removed]"
          },
          "metadata": {}
        }
      ],
      "source": [
        "sn.boxplot(x = 'coverage', data=churn);"
      ]
    },
    {
      "cell_type": "markdown",
      "metadata": {
        "id": "rgF1FkIZye4O"
      },
      "source": [
        "#Treating ouliers"
      ]
    },
    {
      "cell_type": "code",
      "execution_count": null,
      "metadata": {
        "id": "2Q61lAxMye4O",
        "colab": {
          "base_uri": "https://localhost:8080/"
        },
        "outputId": "30452e17-1b1a-4599-a631-2a0c07b7aec5"
      },
      "outputs": [
        {
          "output_type": "stream",
          "name": "stdout",
          "text": [
            "10.0\n",
            "600.0\n"
          ]
        }
      ],
      "source": [
        "# To calculate the 5th and 95th quantile value of the column \"calls\"\n",
        "print(churn['calls'].quantile(0.05)) \n",
        "print(churn['calls'].quantile(0.95)) \n"
      ]
    },
    {
      "cell_type": "code",
      "execution_count": null,
      "metadata": {
        "id": "NpHQOBy_ye4P",
        "colab": {
          "base_uri": "https://localhost:8080/",
          "height": 430
        },
        "outputId": "6e15061c-a28d-4374-f69f-271d249a9098"
      },
      "outputs": [
        {
          "output_type": "display_data",
          "data": {
            "text/plain": [
              "<Figure size 640x480 with 1 Axes>"
            ],
            "image/png": "[encoded data removed]"
          },
          "metadata": {}
        }
      ],
      "source": [
        "# To replace any value greater than 95th quantile value with the 95th quantile value which is 600\n",
        "churn['calls'] = np.where(churn['calls'] > 600, 600, churn['calls'])\n",
        "# To replace any value lesser than 5th quantile value with the 5th quantile value which is 10\n",
        "churn['calls'] = np.where(churn['calls'] < 10, 10, churn['calls'])\n",
        "# To plot the boxplot after removing outliers\n",
        "sn.boxplot(churn['calls']);"
      ]
    },
    {
      "cell_type": "code",
      "execution_count": null,
      "metadata": {
        "id": "a3eU0lVSye4P",
        "colab": {
          "base_uri": "https://localhost:8080/"
        },
        "outputId": "ebf9911f-f7c1-4670-fe1b-e670e44575ad"
      },
      "outputs": [
        {
          "output_type": "stream",
          "name": "stdout",
          "text": [
            "180.0\n",
            "1700.0\n"
          ]
        }
      ],
      "source": [
        "# To calculate the 5th and 95th quantile value of the column \"charges\"\n",
        "print(churn['charges'].quantile(0.05)) \n",
        "print(churn['charges'].quantile(0.95))"
      ]
    },
    {
      "cell_type": "code",
      "execution_count": null,
      "metadata": {
        "id": "9kpTguSUye4P",
        "colab": {
          "base_uri": "https://localhost:8080/",
          "height": 430
        },
        "outputId": "89eed42f-79ae-43ac-cb81-d62f53b78b5b"
      },
      "outputs": [
        {
          "output_type": "display_data",
          "data": {
            "text/plain": [
              "<Figure size 640x480 with 1 Axes>"
            ],
            "image/png": "[encoded data removed]"
          },
          "metadata": {}
        }
      ],
      "source": [
        "# To replace any value greater than 95th quantile value with the 95th quantile value which is 1700\n",
        "churn['charges'] = np.where(churn['charges'] > 1700, 1700, churn['charges'])\n",
        "# To replace any value lesser than 5th quantile value with the 5th quantile value which is 180\n",
        "churn['charges'] = np.where(churn['charges'] < 180, 180, churn['charges'])\n",
        "# To plot the boxplot after removing outliers\n",
        "sn.boxplot(churn['charges']);"
      ]
    },
    {
      "cell_type": "code",
      "execution_count": null,
      "metadata": {
        "id": "oIO9nIXvye4P",
        "colab": {
          "base_uri": "https://localhost:8080/"
        },
        "outputId": "bdac27d4-7397-46ab-a932-0df9c48fc5f3"
      },
      "outputs": [
        {
          "output_type": "stream",
          "name": "stdout",
          "text": [
            "0.0\n",
            "3.0\n"
          ]
        }
      ],
      "source": [
        "# To calculate the 5th and 95th quantile value of the column \"coverage\"\n",
        "print(churn['coverage'].quantile(0.05)) \n",
        "print(churn['coverage'].quantile(0.95))"
      ]
    },
    {
      "cell_type": "code",
      "execution_count": null,
      "metadata": {
        "id": "cZR5iGjIye4Q"
      },
      "outputs": [],
      "source": [
        "#To replace any value greater than 95th quantile value with the 95th quantile value which is 3\n",
        "churn['coverage'] = np.where(churn['coverage'] > 3, 3, churn['coverage'])\n",
        "# To replace any value lesser than 5th quantile value with the 5th quantile value which is 0\n",
        "churn['coverage'] = np.where(churn['coverage'] < 0, 0, churn['coverage'])"
      ]
    },
    {
      "cell_type": "code",
      "source": [
        "# To calculate the 5th and 95th quantile value of the column \"coverage\"\n",
        "print(churn['ACC'].quantile(0.05)) \n",
        "print(churn['ACC'].quantile(0.95))"
      ],
      "metadata": {
        "id": "FxnIZBP6jb-A",
        "colab": {
          "base_uri": "https://localhost:8080/"
        },
        "outputId": "69a1c775-3d5f-4ab6-fd6c-019556e13023"
      },
      "execution_count": null,
      "outputs": [
        {
          "output_type": "stream",
          "name": "stdout",
          "text": [
            "1.7288697788697789\n",
            "39.11666666666648\n"
          ]
        }
      ]
    },
    {
      "cell_type": "code",
      "source": [
        "# To calculate the average value of the column \"coverage\"\n",
        "print(churn['ACC'].min()) \n",
        "print(churn['ACC'].max())"
      ],
      "metadata": {
        "id": "D1qVHbC-jnHt",
        "colab": {
          "base_uri": "https://localhost:8080/"
        },
        "outputId": "604ab659-44f4-4c41-c31f-910b1a3dd072"
      },
      "execution_count": null,
      "outputs": [
        {
          "output_type": "stream",
          "name": "stdout",
          "text": [
            "0.8\n",
            "inf\n"
          ]
        }
      ]
    },
    {
      "cell_type": "code",
      "source": [
        "#To replace any value greater than 95th quantile value with the 95th quantile value which is 39.12\n",
        "churn['ACC'] = np.where(churn['ACC'] > churn['ACC'].quantile(0.95), churn['ACC'].quantile(0.95), churn['ACC'])\n",
        "# To replace any value lesser than 5th quantile value with the 5th quantile value which is 1.73\n",
        "churn['ACC'] = np.where(churn['ACC'] < churn['ACC'].quantile(0.05), churn['ACC'].quantile(0.05), churn['ACC'])"
      ],
      "metadata": {
        "id": "KXlYArbXj8Ef"
      },
      "execution_count": null,
      "outputs": []
    },
    {
      "cell_type": "code",
      "source": [
        "assert churn['ACC'].max() <= 40"
      ],
      "metadata": {
        "id": "4pbcXald6Odn"
      },
      "execution_count": null,
      "outputs": []
    },
    {
      "cell_type": "code",
      "source": [
        "churn['ACC'].describe()"
      ],
      "metadata": {
        "id": "b9pqFUOqk7bz",
        "colab": {
          "base_uri": "https://localhost:8080/"
        },
        "outputId": "368b4fd4-5d15-4d13-ebdb-44586e16fb4d"
      },
      "execution_count": null,
      "outputs": [
        {
          "output_type": "execute_result",
          "data": {
            "text/plain": [
              "count    4994.000000\n",
              "mean        7.470132\n",
              "std         9.278726\n",
              "min         1.728870\n",
              "25%         2.513782\n",
              "50%         3.789409\n",
              "75%         7.250000\n",
              "max        39.116667\n",
              "Name: ACC, dtype: float64"
            ]
          },
          "metadata": {},
          "execution_count": 89
        }
      ]
    },
    {
      "cell_type": "code",
      "source": [
        "# To plot the boxplot after removing outliers\n",
        "sn.boxplot(churn['ACC']);"
      ],
      "metadata": {
        "id": "_6aNIbW6jUUs",
        "colab": {
          "base_uri": "https://localhost:8080/",
          "height": 430
        },
        "outputId": "696e53e6-3857-4d84-e1f5-2b347d1bce15"
      },
      "execution_count": null,
      "outputs": [
        {
          "output_type": "display_data",
          "data": {
            "text/plain": [
              "<Figure size 640x480 with 1 Axes>"
            ],
            "image/png": "[encoded data removed]"
          },
          "metadata": {}
        }
      ]
    },
    {
      "cell_type": "code",
      "source": [
        "# To plot the boxplot after removing outliers\n",
        "sn.boxplot(churn['coverage']);"
      ],
      "metadata": {
        "id": "t32MOmd-6I8l",
        "colab": {
          "base_uri": "https://localhost:8080/",
          "height": 430
        },
        "outputId": "e788b328-11b4-4607-88e9-0decfc978852"
      },
      "execution_count": null,
      "outputs": [
        {
          "output_type": "display_data",
          "data": {
            "text/plain": [
              "<Figure size 640x480 with 1 Axes>"
            ],
            "image/png": "[encoded data removed]"
          },
          "metadata": {}
        }
      ]
    },
    {
      "cell_type": "code",
      "source": [
        "sn.boxplot(data=churn[numeric_cols])"
      ],
      "metadata": {
        "id": "tJZVXJ88hfPb",
        "colab": {
          "base_uri": "https://localhost:8080/",
          "height": 448
        },
        "outputId": "f23c98a2-0578-43d0-e66b-f0d3fd7bf28d"
      },
      "execution_count": null,
      "outputs": [
        {
          "output_type": "execute_result",
          "data": {
            "text/plain": [
              "<Axes: >"
            ]
          },
          "metadata": {},
          "execution_count": 92
        },
        {
          "output_type": "display_data",
          "data": {
            "text/plain": [
              "<Figure size 640x480 with 1 Axes>"
            ],
            "image/png": "[encoded data removed]"
          },
          "metadata": {}
        }
      ]
    },
    {
      "cell_type": "code",
      "source": [
        "sn.boxplot(data=churn[['sms','mms']])"
      ],
      "metadata": {
        "id": "UNqwqMpKhKXH",
        "colab": {
          "base_uri": "https://localhost:8080/",
          "height": 451
        },
        "outputId": "97020b0e-e503-49c7-a733-827c8cdf78d9"
      },
      "execution_count": null,
      "outputs": [
        {
          "output_type": "execute_result",
          "data": {
            "text/plain": [
              "<Axes: >"
            ]
          },
          "metadata": {},
          "execution_count": 93
        },
        {
          "output_type": "display_data",
          "data": {
            "text/plain": [
              "<Figure size 640x480 with 1 Axes>"
            ],
            "image/png": "[encoded data removed]"
          },
          "metadata": {}
        }
      ]
    },
    {
      "cell_type": "code",
      "source": [
        "sn.boxplot(data=churn['ACC'])"
      ],
      "metadata": {
        "id": "z_F9OafUsWay",
        "colab": {
          "base_uri": "https://localhost:8080/",
          "height": 448
        },
        "outputId": "36c0debd-e117-498b-bf26-3131d6301ec5"
      },
      "execution_count": null,
      "outputs": [
        {
          "output_type": "execute_result",
          "data": {
            "text/plain": [
              "<Axes: >"
            ]
          },
          "metadata": {},
          "execution_count": 94
        },
        {
          "output_type": "display_data",
          "data": {
            "text/plain": [
              "<Figure size 640x480 with 1 Axes>"
            ],
            "image/png": "[encoded data removed]"
          },
          "metadata": {}
        }
      ]
    },
    {
      "cell_type": "code",
      "source": [
        "sn.boxplot(x = 'age', y = 'calls', data=churn)"
      ],
      "metadata": {
        "id": "VGbGTMIoi-MU",
        "colab": {
          "base_uri": "https://localhost:8080/",
          "height": 467
        },
        "outputId": "5879afdb-58ed-40f9-ca1b-e712458deead"
      },
      "execution_count": null,
      "outputs": [
        {
          "output_type": "execute_result",
          "data": {
            "text/plain": [
              "<Axes: xlabel='age', ylabel='calls'>"
            ]
          },
          "metadata": {},
          "execution_count": 95
        },
        {
          "output_type": "display_data",
          "data": {
            "text/plain": [
              "<Figure size 640x480 with 1 Axes>"
            ],
            "image/png": "[encoded data removed]"
          },
          "metadata": {}
        }
      ]
    },
    {
      "cell_type": "code",
      "source": [
        "sn.boxplot(x = 'age', y = 'charges', data=churn)"
      ],
      "metadata": {
        "id": "hzQhF-Dpjigz",
        "colab": {
          "base_uri": "https://localhost:8080/",
          "height": 467
        },
        "outputId": "e03a3028-fd5f-452e-8336-4d49ea886515"
      },
      "execution_count": null,
      "outputs": [
        {
          "output_type": "execute_result",
          "data": {
            "text/plain": [
              "<Axes: xlabel='age', ylabel='charges'>"
            ]
          },
          "metadata": {},
          "execution_count": 96
        },
        {
          "output_type": "display_data",
          "data": {
            "text/plain": [
              "<Figure size 640x480 with 1 Axes>"
            ],
            "image/png": "[encoded data removed]"
          },
          "metadata": {}
        }
      ]
    },
    {
      "cell_type": "code",
      "source": [
        "sn.boxplot(x = 'churn', y = 'calls', data=churn)"
      ],
      "metadata": {
        "id": "xT41IqVjhr7a",
        "colab": {
          "base_uri": "https://localhost:8080/",
          "height": 467
        },
        "outputId": "53904ae2-a4b0-4e27-b602-109c0a75bb57"
      },
      "execution_count": null,
      "outputs": [
        {
          "output_type": "execute_result",
          "data": {
            "text/plain": [
              "<Axes: xlabel='churn', ylabel='calls'>"
            ]
          },
          "metadata": {},
          "execution_count": 97
        },
        {
          "output_type": "display_data",
          "data": {
            "text/plain": [
              "<Figure size 640x480 with 1 Axes>"
            ],
            "image/png": "[encoded data removed]"
          },
          "metadata": {}
        }
      ]
    },
    {
      "cell_type": "code",
      "source": [
        "sn.boxplot(y = 'churn', x = 'charges', data=churn)"
      ],
      "metadata": {
        "id": "4bwoAppwj2S2",
        "colab": {
          "base_uri": "https://localhost:8080/",
          "height": 467
        },
        "outputId": "2980e9c3-b5fa-4b55-91a8-44cb6d7eec76"
      },
      "execution_count": null,
      "outputs": [
        {
          "output_type": "execute_result",
          "data": {
            "text/plain": [
              "<Axes: xlabel='charges', ylabel='churn'>"
            ]
          },
          "metadata": {},
          "execution_count": 98
        },
        {
          "output_type": "display_data",
          "data": {
            "text/plain": [
              "<Figure size 640x480 with 1 Axes>"
            ],
            "image/png": "[encoded data removed]"
          },
          "metadata": {}
        }
      ]
    },
    {
      "cell_type": "code",
      "source": [
        "sn.boxplot(y = 'age', x = 'charges', data=churn, hue = 'churn')"
      ],
      "metadata": {
        "id": "0KVCNgREkJeZ",
        "colab": {
          "base_uri": "https://localhost:8080/",
          "height": 467
        },
        "outputId": "6be4463a-686b-4e1b-dccc-a6efb6325daa"
      },
      "execution_count": null,
      "outputs": [
        {
          "output_type": "execute_result",
          "data": {
            "text/plain": [
              "<Axes: xlabel='charges', ylabel='age'>"
            ]
          },
          "metadata": {},
          "execution_count": 99
        },
        {
          "output_type": "display_data",
          "data": {
            "text/plain": [
              "<Figure size 640x480 with 1 Axes>"
            ],
            "image/png": "[encoded data removed]"
          },
          "metadata": {}
        }
      ]
    },
    {
      "cell_type": "code",
      "source": [
        "print(numeric_cols)"
      ],
      "metadata": {
        "id": "yd_Bk_udixjk",
        "colab": {
          "base_uri": "https://localhost:8080/"
        },
        "outputId": "bf996502-a65b-4025-d62e-0e5b0a48c0ac"
      },
      "execution_count": null,
      "outputs": [
        {
          "output_type": "stream",
          "name": "stdout",
          "text": [
            "['calls', 'sms', 'mms', 'charges', 'coverage', 'ACC']\n"
          ]
        }
      ]
    },
    {
      "cell_type": "code",
      "execution_count": null,
      "metadata": {
        "id": "KYPnbZTmye4T"
      },
      "outputs": [],
      "source": [
        "import statsmodels.api as sm\n",
        "from scipy.stats import boxcox\n",
        "import pylab"
      ]
    },
    {
      "cell_type": "code",
      "source": [
        "sm.qqplot(churn['calls'], line='45')\n",
        "pylab.show()"
      ],
      "metadata": {
        "id": "aahztu3io7Ao",
        "colab": {
          "base_uri": "https://localhost:8080/",
          "height": 449
        },
        "outputId": "f071923a-ac45-4101-9225-aed5d87dfc1c"
      },
      "execution_count": null,
      "outputs": [
        {
          "output_type": "display_data",
          "data": {
            "text/plain": [
              "<Figure size 640x480 with 1 Axes>"
            ],
            "image/png": "[encoded data removed]"
          },
          "metadata": {}
        }
      ]
    },
    {
      "cell_type": "code",
      "source": [
        "sm.qqplot(churn['sms'], line='45')\n",
        "pylab.show()"
      ],
      "metadata": {
        "id": "FJCWOuvvpQsm",
        "colab": {
          "base_uri": "https://localhost:8080/",
          "height": 449
        },
        "outputId": "b5845b0a-7cf4-41bc-f4f5-47c13e1404f6"
      },
      "execution_count": null,
      "outputs": [
        {
          "output_type": "display_data",
          "data": {
            "text/plain": [
              "<Figure size 640x480 with 1 Axes>"
            ],
            "image/png": "[encoded data removed]"
          },
          "metadata": {}
        }
      ]
    },
    {
      "cell_type": "code",
      "source": [
        "sm.qqplot(churn['mms'], line='45')\n",
        "pylab.show()"
      ],
      "metadata": {
        "id": "1T0bwJLup5TS",
        "colab": {
          "base_uri": "https://localhost:8080/",
          "height": 449
        },
        "outputId": "c5a71912-09c2-4506-81b8-a6a3b0701674"
      },
      "execution_count": null,
      "outputs": [
        {
          "output_type": "display_data",
          "data": {
            "text/plain": [
              "<Figure size 640x480 with 1 Axes>"
            ],
            "image/png": "[encoded data removed]"
          },
          "metadata": {}
        }
      ]
    },
    {
      "cell_type": "code",
      "source": [
        "sm.qqplot(churn['charges'], line='45')\n",
        "pylab.show()"
      ],
      "metadata": {
        "id": "ZHWlTCeQp8Sa",
        "colab": {
          "base_uri": "https://localhost:8080/",
          "height": 449
        },
        "outputId": "278ec153-5652-455e-a6df-490341a2c4e7"
      },
      "execution_count": null,
      "outputs": [
        {
          "output_type": "display_data",
          "data": {
            "text/plain": [
              "<Figure size 640x480 with 1 Axes>"
            ],
            "image/png": "[encoded data removed]"
          },
          "metadata": {}
        }
      ]
    },
    {
      "cell_type": "code",
      "source": [
        "sm.qqplot(churn['ACC'], line='45')\n",
        "pylab.show()"
      ],
      "metadata": {
        "id": "Hv4MQ5N_p_J4",
        "colab": {
          "base_uri": "https://localhost:8080/",
          "height": 449
        },
        "outputId": "5504acf4-4c5b-4f8a-9b57-87dc4f993189"
      },
      "execution_count": null,
      "outputs": [
        {
          "output_type": "display_data",
          "data": {
            "text/plain": [
              "<Figure size 640x480 with 1 Axes>"
            ],
            "image/png": "[encoded data removed]"
          },
          "metadata": {}
        }
      ]
    },
    {
      "cell_type": "code",
      "execution_count": null,
      "metadata": {
        "id": "3j-MUAhZye4S"
      },
      "outputs": [],
      "source": [
        "# To scale the data \n",
        "# Import packages\n",
        "from sklearn import preprocessing\n",
        "min_max_scaler = preprocessing.MinMaxScaler()\n",
        "\n",
        "min_max_scaler.fit(churn[numeric_cols])\n",
        "churn[numeric_cols] = min_max_scaler.transform(churn[numeric_cols])\n"
      ]
    },
    {
      "cell_type": "code",
      "execution_count": null,
      "metadata": {
        "id": "zQXsiGM2ye4T",
        "colab": {
          "base_uri": "https://localhost:8080/",
          "height": 356
        },
        "outputId": "9563aa00-a9cb-4954-fa06-467a14a12d11"
      },
      "outputs": [
        {
          "output_type": "execute_result",
          "data": {
            "text/plain": [
              "  age  gender     calls       sms       mms   charges  coverage complaint  \\\n",
              "0   1    Male  0.254237  0.045455  0.086957  0.203947       0.0         4   \n",
              "1   1    Male  0.237288  0.500000  0.478261  0.105263       0.0         3   \n",
              "2   1    Male  0.152542  0.363636  0.391304  0.000000       0.0         1   \n",
              "3   2    Male  0.440678  0.272727  0.260870  0.539474       0.0         1   \n",
              "4   2  Female  0.152542  0.272727  0.239130  0.177632       0.0         4   \n",
              "\n",
              "          sim   phone  prepost churn       ACC  \n",
              "0    Dual Sim  Andoid  Prepaid     0  0.035670  \n",
              "1    Dual Sim  Andoid  Prepaid     0  0.014384  \n",
              "2  Single Sim  Andoid  Prepaid     0  0.000000  \n",
              "3  Single Sim  Andoid  Prepaid     0  0.052820  \n",
              "4  Single Sim  Andoid  Prepaid     0  0.074119  "
            ],
            "text/html": [
              "\n",
              "  <div id=\"df-a0946bfa-9735-4a67-a2cb-07b35efb5a56\">\n",
              "    <div class=\"colab-df-container\">\n",
              "      <div>\n",
              "<style scoped>\n",
              "    .dataframe tbody tr th:only-of-type {\n",
              "        vertical-align: middle;\n",
              "    }\n",
              "\n",
              "    .dataframe tbody tr th {\n",
              "        vertical-align: top;\n",
              "    }\n",
              "\n",
              "    .dataframe thead th {\n",
              "        text-align: right;\n",
              "    }\n",
              "</style>\n",
              "<table border=\"1\" class=\"dataframe\">\n",
              "  <thead>\n",
              "    <tr style=\"text-align: right;\">\n",
              "      <th></th>\n",
              "      <th>age</th>\n",
              "      <th>gender</th>\n",
              "      <th>calls</th>\n",
              "      <th>sms</th>\n",
              "      <th>mms</th>\n",
              "      <th>charges</th>\n",
              "      <th>coverage</th>\n",
              "      <th>complaint</th>\n",
              "      <th>sim</th>\n",
              "      <th>phone</th>\n",
              "      <th>prepost</th>\n",
              "      <th>churn</th>\n",
              "      <th>ACC</th>\n",
              "    </tr>\n",
              "  </thead>\n",
              "  <tbody>\n",
              "    <tr>\n",
              "      <th>0</th>\n",
              "      <td>1</td>\n",
              "      <td>Male</td>\n",
              "      <td>0.254237</td>\n",
              "      <td>0.045455</td>\n",
              "      <td>0.086957</td>\n",
              "      <td>0.203947</td>\n",
              "      <td>0.0</td>\n",
              "      <td>4</td>\n",
              "      <td>Dual Sim</td>\n",
              "      <td>Andoid</td>\n",
              "      <td>Prepaid</td>\n",
              "      <td>0</td>\n",
              "      <td>0.035670</td>\n",
              "    </tr>\n",
              "    <tr>\n",
              "      <th>1</th>\n",
              "      <td>1</td>\n",
              "      <td>Male</td>\n",
              "      <td>0.237288</td>\n",
              "      <td>0.500000</td>\n",
              "      <td>0.478261</td>\n",
              "      <td>0.105263</td>\n",
              "      <td>0.0</td>\n",
              "      <td>3</td>\n",
              "      <td>Dual Sim</td>\n",
              "      <td>Andoid</td>\n",
              "      <td>Prepaid</td>\n",
              "      <td>0</td>\n",
              "      <td>0.014384</td>\n",
              "    </tr>\n",
              "    <tr>\n",
              "      <th>2</th>\n",
              "      <td>1</td>\n",
              "      <td>Male</td>\n",
              "      <td>0.152542</td>\n",
              "      <td>0.363636</td>\n",
              "      <td>0.391304</td>\n",
              "      <td>0.000000</td>\n",
              "      <td>0.0</td>\n",
              "      <td>1</td>\n",
              "      <td>Single Sim</td>\n",
              "      <td>Andoid</td>\n",
              "      <td>Prepaid</td>\n",
              "      <td>0</td>\n",
              "      <td>0.000000</td>\n",
              "    </tr>\n",
              "    <tr>\n",
              "      <th>3</th>\n",
              "      <td>2</td>\n",
              "      <td>Male</td>\n",
              "      <td>0.440678</td>\n",
              "      <td>0.272727</td>\n",
              "      <td>0.260870</td>\n",
              "      <td>0.539474</td>\n",
              "      <td>0.0</td>\n",
              "      <td>1</td>\n",
              "      <td>Single Sim</td>\n",
              "      <td>Andoid</td>\n",
              "      <td>Prepaid</td>\n",
              "      <td>0</td>\n",
              "      <td>0.052820</td>\n",
              "    </tr>\n",
              "    <tr>\n",
              "      <th>4</th>\n",
              "      <td>2</td>\n",
              "      <td>Female</td>\n",
              "      <td>0.152542</td>\n",
              "      <td>0.272727</td>\n",
              "      <td>0.239130</td>\n",
              "      <td>0.177632</td>\n",
              "      <td>0.0</td>\n",
              "      <td>4</td>\n",
              "      <td>Single Sim</td>\n",
              "      <td>Andoid</td>\n",
              "      <td>Prepaid</td>\n",
              "      <td>0</td>\n",
              "      <td>0.074119</td>\n",
              "    </tr>\n",
              "  </tbody>\n",
              "</table>\n",
              "</div>\n",
              "      <button class=\"colab-df-convert\" onclick=\"convertToInteractive('df-a0946bfa-9735-4a67-a2cb-07b35efb5a56')\"\n",
              "              title=\"Convert this dataframe to an interactive table.\"\n",
              "              style=\"display:none;\">\n",
              "        \n",
              "  <svg xmlns=\"http://www.w3.org/2000/svg\" height=\"24px\"viewBox=\"0 0 24 24\"\n",
              "       width=\"24px\">\n",
              "    <path d=\"M0 0h24v24H0V0z\" fill=\"none\"/>\n",
              "    <path d=\"M18.56 5.44l.94 2.06.94-2.06 2.06-.94-2.06-.94-.94-2.06-.94 2.06-2.06.94zm-11 1L8.5 8.5l.94-2.06 2.06-.94-2.06-.94L8.5 2.5l-.94 2.06-2.06.94zm10 10l.94 2.06.94-2.06 2.06-.94-2.06-.94-.94-2.06-.94 2.06-2.06.94z\"/><path d=\"M17.41 7.96l-1.37-1.37c-.4-.4-.92-.59-1.43-.59-.52 0-1.04.2-1.43.59L10.3 9.45l-7.72 7.72c-.78.78-.78 2.05 0 2.83L4 21.41c.39.39.9.59 1.41.59.51 0 1.02-.2 1.41-.59l7.78-7.78 2.81-2.81c.8-.78.8-2.07 0-2.86zM5.41 20L4 18.59l7.72-7.72 1.47 1.35L5.41 20z\"/>\n",
              "  </svg>\n",
              "      </button>\n",
              "      \n",
              "  <style>\n",
              "    .colab-df-container {\n",
              "      display:flex;\n",
              "      flex-wrap:wrap;\n",
              "      gap: 12px;\n",
              "    }\n",
              "\n",
              "    .colab-df-convert {\n",
              "      background-color: #E8F0FE;\n",
              "      border: none;\n",
              "      border-radius: 50%;\n",
              "      cursor: pointer;\n",
              "      display: none;\n",
              "      fill: #1967D2;\n",
              "      height: 32px;\n",
              "      padding: 0 0 0 0;\n",
              "      width: 32px;\n",
              "    }\n",
              "\n",
              "    .colab-df-convert:hover {\n",
              "      background-color: #E2EBFA;\n",
              "      box-shadow: 0px 1px 2px rgba(60, 64, 67, 0.3), 0px 1px 3px 1px rgba(60, 64, 67, 0.15);\n",
              "      fill: #174EA6;\n",
              "    }\n",
              "\n",
              "    [theme=dark] .colab-df-convert {\n",
              "      background-color: #3B4455;\n",
              "      fill: #D2E3FC;\n",
              "    }\n",
              "\n",
              "    [theme=dark] .colab-df-convert:hover {\n",
              "      background-color: #434B5C;\n",
              "      box-shadow: 0px 1px 3px 1px rgba(0, 0, 0, 0.15);\n",
              "      filter: drop-shadow(0px 1px 2px rgba(0, 0, 0, 0.3));\n",
              "      fill: #FFFFFF;\n",
              "    }\n",
              "  </style>\n",
              "\n",
              "      <script>\n",
              "        const buttonEl =\n",
              "          document.querySelector('#df-a0946bfa-9735-4a67-a2cb-07b35efb5a56 button.colab-df-convert');\n",
              "        buttonEl.style.display =\n",
              "          google.colab.kernel.accessAllowed ? 'block' : 'none';\n",
              "\n",
              "        async function convertToInteractive(key) {\n",
              "          const element = document.querySelector('#df-a0946bfa-9735-4a67-a2cb-07b35efb5a56');\n",
              "          const dataTable =\n",
              "            await google.colab.kernel.invokeFunction('convertToInteractive',\n",
              "                                                     [key], {});\n",
              "          if (!dataTable) return;\n",
              "\n",
              "          const docLinkHtml = 'Like what you see? Visit the ' +\n",
              "            '<a target=\"_blank\" href=https://colab.research.google.com/notebooks/data_table.ipynb>data table notebook</a>'\n",
              "            + ' to learn more about interactive tables.';\n",
              "          element.innerHTML = '';\n",
              "          dataTable['output_type'] = 'display_data';\n",
              "          await google.colab.output.renderOutput(dataTable, element);\n",
              "          const docLink = document.createElement('div');\n",
              "          docLink.innerHTML = docLinkHtml;\n",
              "          element.appendChild(docLink);\n",
              "        }\n",
              "      </script>\n",
              "    </div>\n",
              "  </div>\n",
              "  "
            ]
          },
          "metadata": {},
          "execution_count": 108
        }
      ],
      "source": [
        "churn.head()"
      ]
    },
    {
      "cell_type": "code",
      "source": [
        "# To scale the data \n",
        "# Import packages\n",
        "#from sklearn import preprocessing\n",
        "#min_max_scaler = preprocessing.MinMaxScaler()\n",
        "\n",
        "#churn[[\"sms\", \"mms\",\"calls\",\"charges\",\"coverage\"]] = min_max_scaler.fit_transform(churn[[\"sms\", \"mms\",\"calls\",\"charges\",\"coverage\"]])\n",
        "\n"
      ],
      "metadata": {
        "id": "-_Li4ZpYdG01"
      },
      "execution_count": null,
      "outputs": []
    },
    {
      "cell_type": "code",
      "source": [
        "churn['calls_N'] = boxcox(churn['calls'],-0.5)\n",
        "sm.qqplot(churn['calls_N'], line='45')\n",
        "pylab.show()"
      ],
      "metadata": {
        "id": "sIyDCjIDr_qn",
        "colab": {
          "base_uri": "https://localhost:8080/",
          "height": 449
        },
        "outputId": "4d48012b-6f67-4cba-ad08-ffafc0dc18fc"
      },
      "execution_count": null,
      "outputs": [
        {
          "output_type": "display_data",
          "data": {
            "text/plain": [
              "<Figure size 640x480 with 1 Axes>"
            ],
            "image/png": "[encoded data removed]"
          },
          "metadata": {}
        }
      ]
    },
    {
      "cell_type": "code",
      "source": [
        "from scipy.stats import yeojohnson\n",
        "churn['calls_N'], lam = yeojohnson(churn['calls'])\n",
        "sm.qqplot(churn['calls_N'], line='45')\n",
        "pylab.show()\n",
        "print(lam)\n"
      ],
      "metadata": {
        "id": "9DQe8ugjstq7",
        "colab": {
          "base_uri": "https://localhost:8080/",
          "height": 467
        },
        "outputId": "87a99f50-d5ea-47d4-9da5-40cf23fdff6d"
      },
      "execution_count": null,
      "outputs": [
        {
          "output_type": "display_data",
          "data": {
            "text/plain": [
              "<Figure size 640x480 with 1 Axes>"
            ],
            "image/png": "[encoded data removed]"
          },
          "metadata": {}
        },
        {
          "output_type": "stream",
          "name": "stdout",
          "text": [
            "-2.001739706299399\n"
          ]
        }
      ]
    },
    {
      "cell_type": "code",
      "source": [
        "churn['calls_N'], lam = boxcox(churn['calls'])\n",
        "sm.qqplot(churn['calls_N'], line='45')\n",
        "pylab.show()\n",
        "print(lam)"
      ],
      "metadata": {
        "id": "-aD-ihxftAYh",
        "colab": {
          "base_uri": "https://localhost:8080/",
          "height": 366
        },
        "outputId": "a7afdccc-3636-4fef-b97f-14a791d65064"
      },
      "execution_count": null,
      "outputs": [
        {
          "output_type": "error",
          "ename": "ValueError",
          "evalue": "ignored",
          "traceback": [
            "\u001b[0;31m---------------------------------------------------------------------------\u001b[0m",
            "\u001b[0;31mValueError\u001b[0m                                Traceback (most recent call last)",
            "\u001b[0;32m<ipython-input-112-3417ece06e76>\u001b[0m in \u001b[0;36m<cell line: 1>\u001b[0;34m()\u001b[0m\n\u001b[0;32m----> 1\u001b[0;31m \u001b[0mchurn\u001b[0m\u001b[0;34m[\u001b[0m\u001b[0;34m'calls_N'\u001b[0m\u001b[0;34m]\u001b[0m\u001b[0;34m,\u001b[0m \u001b[0mlam\u001b[0m \u001b[0;34m=\u001b[0m \u001b[0mboxcox\u001b[0m\u001b[0;34m(\u001b[0m\u001b[0mchurn\u001b[0m\u001b[0;34m[\u001b[0m\u001b[0;34m'calls'\u001b[0m\u001b[0;34m]\u001b[0m\u001b[0;34m)\u001b[0m\u001b[0;34m\u001b[0m\u001b[0;34m\u001b[0m\u001b[0m\n\u001b[0m\u001b[1;32m      2\u001b[0m \u001b[0msm\u001b[0m\u001b[0;34m.\u001b[0m\u001b[0mqqplot\u001b[0m\u001b[0;34m(\u001b[0m\u001b[0mchurn\u001b[0m\u001b[0;34m[\u001b[0m\u001b[0;34m'calls_N'\u001b[0m\u001b[0;34m]\u001b[0m\u001b[0;34m,\u001b[0m \u001b[0mline\u001b[0m\u001b[0;34m=\u001b[0m\u001b[0;34m'45'\u001b[0m\u001b[0;34m)\u001b[0m\u001b[0;34m\u001b[0m\u001b[0;34m\u001b[0m\u001b[0m\n\u001b[1;32m      3\u001b[0m \u001b[0mpylab\u001b[0m\u001b[0;34m.\u001b[0m\u001b[0mshow\u001b[0m\u001b[0;34m(\u001b[0m\u001b[0;34m)\u001b[0m\u001b[0;34m\u001b[0m\u001b[0;34m\u001b[0m\u001b[0m\n\u001b[1;32m      4\u001b[0m \u001b[0mprint\u001b[0m\u001b[0;34m(\u001b[0m\u001b[0mlam\u001b[0m\u001b[0;34m)\u001b[0m\u001b[0;34m\u001b[0m\u001b[0;34m\u001b[0m\u001b[0m\n",
            "\u001b[0;32m/usr/local/lib/python3.9/dist-packages/scipy/stats/_morestats.py\u001b[0m in \u001b[0;36mboxcox\u001b[0;34m(x, lmbda, alpha, optimizer)\u001b[0m\n\u001b[1;32m   1100\u001b[0m \u001b[0;34m\u001b[0m\u001b[0m\n\u001b[1;32m   1101\u001b[0m     \u001b[0;32mif\u001b[0m \u001b[0mnp\u001b[0m\u001b[0;34m.\u001b[0m\u001b[0many\u001b[0m\u001b[0;34m(\u001b[0m\u001b[0mx\u001b[0m \u001b[0;34m<=\u001b[0m \u001b[0;36m0\u001b[0m\u001b[0;34m)\u001b[0m\u001b[0;34m:\u001b[0m\u001b[0;34m\u001b[0m\u001b[0;34m\u001b[0m\u001b[0m\n\u001b[0;32m-> 1102\u001b[0;31m         \u001b[0;32mraise\u001b[0m \u001b[0mValueError\u001b[0m\u001b[0;34m(\u001b[0m\u001b[0;34m\"Data must be positive.\"\u001b[0m\u001b[0;34m)\u001b[0m\u001b[0;34m\u001b[0m\u001b[0;34m\u001b[0m\u001b[0m\n\u001b[0m\u001b[1;32m   1103\u001b[0m \u001b[0;34m\u001b[0m\u001b[0m\n\u001b[1;32m   1104\u001b[0m     \u001b[0;31m# If lmbda=None, find the lmbda that maximizes the log-likelihood function.\u001b[0m\u001b[0;34m\u001b[0m\u001b[0;34m\u001b[0m\u001b[0m\n",
            "\u001b[0;31mValueError\u001b[0m: Data must be positive."
          ]
        }
      ]
    }
  ],
  "metadata": {
    "kernelspec": {
      "display_name": "Python 3",
      "language": "python",
      "name": "python3"
    },
    "language_info": {
      "codemirror_mode": {
        "name": "ipython",
        "version": 3
      },
      "file_extension": ".py",
      "mimetype": "text/x-python",
      "name": "python",
      "nbconvert_exporter": "python",
      "pygments_lexer": "ipython3",
      "version": "3.7.6"
    },
    "colab": {
      "provenance": [],
      "include_colab_link": true
    }
  },
  "nbformat": 4,
  "nbformat_minor": 0
}